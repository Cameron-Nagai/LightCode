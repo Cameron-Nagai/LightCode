{
 "cells": [
  {
   "cell_type": "code",
   "execution_count": 2,
   "metadata": {
    "collapsed": false
   },
   "outputs": [],
   "source": [
    "import sys\n",
    "import spotipy\n",
    "import spotipy.util as util\n",
    "\n",
    "\n",
    "import calendar\n",
    "import dateutil\n",
    "import json\n",
    "import pprint\n",
    "\n",
    "import pandas as pd\n",
    "import numpy as np\n",
    "import matplotlib.pyplot as plt\n",
    "import os\n",
    "\n",
    "#scope = 'user-library-read'\n",
    "#scope = 'user-top-read user-read-playback-state'\n",
    "scope = 'user-read-playback-state user-read-recently-played'\n",
    "\n",
    "token = util.prompt_for_user_token('aaronopp', scope, client_id='dbe2a20785304190b8e35d5d6644397b', client_secret='cc259d8378be48beaad9171a5afb19ba', redirect_uri='http://localhost:8888/callback')\n",
    "import dateutil.parser as dp\n"
   ]
  },
  {
   "cell_type": "code",
   "execution_count": 4,
   "metadata": {
    "collapsed": false
   },
   "outputs": [
    {
     "data": {
      "text/plain": [
       "u'BQAGfAkMQM-mKMvM2Xt4cr4RTfGbKRVkbjPrGbbUBV9TeI9YHIn48w4UjwzRZIqRwYN-5uHnPgJU5inB-m80yj2LFlZHOBgdUfGJEGIKKIDHXqidU6WaZ8k6sCZ7pDf2mzV41lON_4fuDdxBpITBtFldCQ'"
      ]
     },
     "execution_count": 4,
     "metadata": {},
     "output_type": "execute_result"
    }
   ],
   "source": [
    "token"
   ]
  },
  {
   "cell_type": "code",
   "execution_count": 5,
   "metadata": {
    "collapsed": false
   },
   "outputs": [
    {
     "name": "stdout",
     "output_type": "stream",
     "text": [
      "song name:  Do I Have to Talk You Into It\n",
      "timestamp:  1516313853949\n",
      "artist name:  Spoon\n",
      "artist id:  0K1q0nXQ8is36PzOKAMbNe\n",
      "song id:  0EH6BeGSEWtbETiOAYr3sN\n",
      "\n",
      "\n",
      "\n",
      "\n",
      "\n",
      "\t\n",
      "[u'items', u'href', u'limit', u'cursors', u'next']\n",
      "https://api.spotify.com/v1/me/player/recently-played?limit=5\n",
      "{u'after': u'1516313539898', u'before': u'1516311866465'}\n",
      "https://api.spotify.com/v1/me/player/recently-played?before=1516311866465&limit=5\n",
      "name:  How??\n",
      "id:  1bm4WzPddQzOZFAz7JTklq\n",
      "artist:  The Flaming Lips\n",
      "duration ms:  264920\n",
      "popularity:  36\n",
      "played:  2018-01-18T22:12:19.898Z\n",
      "type <type 'unicode'>\n",
      "name:  33 “GOD”\n",
      "id:  1gil9V4XyCurI6DIwN0xrM\n",
      "artist:  Bon Iver\n",
      "duration ms:  213000\n",
      "popularity:  54\n",
      "played:  2018-01-18T22:10:41.156Z\n",
      "type <type 'unicode'>\n",
      "name:  Air Wolf\n",
      "id:  6vfd7eX1cLWPo0zpFrXxaC\n",
      "artist:  Holy Wave\n",
      "duration ms:  342396\n",
      "popularity:  25\n",
      "played:  2018-01-18T22:07:45.658Z\n",
      "type <type 'unicode'>\n",
      "name:  Only A Fool Would Say That\n",
      "id:  6eT2fNwiVD04D3R4uP5qOv\n",
      "artist:  Steely Dan\n",
      "duration ms:  177533\n",
      "popularity:  46\n",
      "played:  2018-01-18T21:46:04.148Z\n",
      "type <type 'unicode'>\n",
      "name:  Control\n",
      "id:  1QZJiYulh7ak7GpZ8OAdwI\n",
      "artist:  Broken Bells\n",
      "duration ms:  221426\n",
      "popularity:  54\n",
      "played:  2018-01-18T21:44:26.465Z\n",
      "type <type 'unicode'>\n"
     ]
    }
   ],
   "source": [
    "\n",
    "\n",
    "timestamp = []\n",
    "songs = []\n",
    "artists = []\n",
    "popularities = []\n",
    "ids = []\n",
    "artist_ids = []\n",
    "if token:\n",
    "    sp = spotipy.Spotify(auth=token)\n",
    "    sp.trace=False\n",
    "    ranges = ['short_term', 'medium_term', 'long_term']\n",
    "    #esults = sp.current_user_playing_track()\n",
    "    curr_results = sp.current_playback()\n",
    "    #print curr_results\n",
    "    #print 'current playback keys ', curr_results.keys()\n",
    "    #print results['item']\n",
    "    #print 'user playing track keys', results.keys()\n",
    "    print 'song name: ', curr_results['item']['name']\n",
    "    print 'timestamp: ', curr_results['timestamp']\n",
    "    artist_info = curr_results['item']['artists']\n",
    "    print 'artist name: ', artist_info[0]['name']\n",
    "    print 'artist id: ', artist_info[0]['id']\n",
    "\t\n",
    "\n",
    "\n",
    "\t#print curr_results['timestamp']\n",
    "    #print 'type name: ', curr_results['item']['type']\n",
    "    print 'song id: ', curr_results['item']['id']\n",
    "    print '''\n",
    "\n",
    "\n",
    "\n",
    "\n",
    "\t'''\n",
    "    recent_results = sp.current_user_recently_played(limit=5)\n",
    "    print recent_results.keys()\n",
    "\n",
    "    print recent_results['href']\n",
    "    print recent_results['cursors']\n",
    "    print recent_results['next']\n",
    "\n",
    "    for i, item in enumerate(recent_results['items']):\n",
    "    \tprint 'name: ', item['track']['name']\n",
    "    \tprint 'id: ', item['track']['id']\n",
    "    \tartist_info = item['track']['artists']\n",
    "    \tprint 'artist: ', artist_info[0]['name']\n",
    "    \tprint 'duration ms: ', item['track']['duration_ms']\n",
    "\n",
    "    \tprint 'popularity: ', item['track']['popularity']\n",
    "    \t\n",
    "        \n",
    "        print 'played: ', item['played_at']\n",
    "        print 'type', type(item['played_at'])\n",
    "    \ttimestamp.append(item['played_at'])\n",
    "        songs.append(item['track']['name'])\n",
    "        ids.append(item['track']['id'])\n",
    "        artists.append(artist_info[0]['name'])\n",
    "        artist_ids.append(artist_info[0]['id'])\n",
    "        popularities.append(item['track']['popularity'])\n",
    "\n",
    "    \n",
    "else:\n",
    "    print \"Can't get token for\", username\n",
    " "
   ]
  },
  {
   "cell_type": "code",
   "execution_count": 15,
   "metadata": {
    "collapsed": false
   },
   "outputs": [],
   "source": [
    "# just realized i should only create/save features at the end when i have all ids. then i\n",
    "# only execute it when i need it!\n",
    "\n",
    "def create_spotify_df(token, scope, get_genre=True, save_features=False):\n",
    "    timestamp = []\n",
    "    songs = []\n",
    "    artists = []\n",
    "    popularities = []\n",
    "    ids = []\n",
    "    genres = []\n",
    "    if token:\n",
    "        sp = spotipy.Spotify(auth=token)\n",
    "        sp.trace=False\n",
    "        ranges = ['short_term', 'medium_term', 'long_term']\n",
    "        #esults = sp.current_user_playing_track()\n",
    "        curr_results = sp.current_playback()\n",
    "        #print curr_results\n",
    "        #print 'current playback keys ', curr_results.keys()\n",
    "        #print results['item']\n",
    "        #print 'user playing track keys', results.keys()\n",
    "        print 'song name: ', curr_results['item']['name']\n",
    "        print 'timestamp: ', curr_results['timestamp']\n",
    "        artist_info = curr_results['item']['artists']\n",
    "        print 'artist name: ', artist_info[0]['name']\n",
    "        print 'artist id: ', artist_info[0]['id']\n",
    "\n",
    "\n",
    "\n",
    "        #print curr_results['timestamp']\n",
    "        #print 'type name: ', curr_results['item']['type']\n",
    "        print 'song id: ', curr_results['item']['id']\n",
    "        print '''\n",
    "\n",
    "\n",
    "\n",
    "\n",
    "        '''\n",
    "        recent_results = sp.current_user_recently_played(limit=5)\n",
    "        print recent_results.keys()\n",
    "\n",
    "        print recent_results['href']\n",
    "        print recent_results['cursors']\n",
    "        print recent_results['next']\n",
    "\n",
    "        for i, item in enumerate(recent_results['items']):\n",
    "            print 'name: ', item['track']['name']\n",
    "            print 'id: ', item['track']['id']\n",
    "            artist_info = item['track']['artists']\n",
    "            print 'artist: ', artist_info[0]['name']\n",
    "            print 'duration ms: ', item['track']['duration_ms']\n",
    "\n",
    "            print 'popularity: ', item['track']['popularity']\n",
    "\n",
    "\n",
    "            print 'played: ', item['played_at']\n",
    "            print 'type', type(item['played_at'])\n",
    "            timestamp.append(item['played_at'])\n",
    "            songs.append(item['track']['name'])\n",
    "            ids.append(item['track']['id'])\n",
    "            artists.append(artist_info[0]['name'])\n",
    "            popularities.append(item['track']['popularity'])\n",
    "            if get_genre == True:\n",
    "                genres.append(get_genre_from_track_id(sp, item['track']['id']))\n",
    "                \n",
    "        #get timestamps\n",
    "        utc_timestamps = []\n",
    "        for time in timestamp:\n",
    "\n",
    "            utc_timestamps.append(calendar.timegm(dateutil.parser.parse(time).timetuple()))\n",
    "        print utc_timestamps\n",
    "\n",
    "        # create dataframe of basic data.\n",
    "        spotify_data = {'timestamp': utc_timestamps, 'artist': artists, 'song': songs, 'id': ids, 'genre': genres, 'popularity': popularities}\n",
    "        spotify_data_df = pd.DataFrame(spotify_data)\n",
    "        spotify_data_df.set_index('timestamp')\n",
    "        if save_features == True:\n",
    "            try: \n",
    "                save_spotify_features(sp, ids)\n",
    "                print 'features saved!'\n",
    "            except:\n",
    "                print 'unable to save features'\n",
    "\n",
    "    return spotify_data_df\n",
    "\n",
    "def save_spotify_features(sp, ids):\n",
    "    # get audio features for each track and save as a JSON!\n",
    "    features = sp.audio_features(ids)\n",
    "    features_json = []\n",
    "    for feature in features:\n",
    "        #print feature\n",
    "        print(json.dumps(feature, indent=4))\n",
    "        print()\n",
    "        features_json.append(json.dumps(feature, indent=4))\n",
    "        with open('data.json', 'a') as outfile:\n",
    "            json.dump(feature, outfile, indent=4)\n",
    "        #analysis = sp._get(feature['analysis_url'])\n",
    "        #print(json.dumps(analysis, indent=4))\n",
    "        #print()\n",
    "def get_album_id_from_track(sp, id):\n",
    "    track = sp.track(id)\n",
    "    #pprint.pprint(track)\n",
    "    album_id = track['album']['id']\n",
    "    \n",
    "    print album_id\n",
    "    return album_id\n",
    "def get_genre_from_track_id(sp, id):\n",
    "    track = sp.track(id)\n",
    "    #pprint.pprint(track)\n",
    "    album_id = track['album']['id']\n",
    "    album = sp.album(str(album_id))\n",
    "    pprint.pprint(album['genres'])\n",
    "    return album['genres']\n",
    "def get_audio_features_json(sp, dataframe, savefile):\n",
    "    # get audio features for each track and save as a JSON!\n",
    "    ids = spotify_data['id'].tolist()\n",
    "    features = sp.audio_features(ids)\n",
    "    features_json = []\n",
    "    for feature in features:\n",
    "        #print feature\n",
    "        print(json.dumps(feature, indent=4))\n",
    "        print()\n",
    "        features_json.append(json.dumps(feature, indent=4))\n",
    "        with open(savefile, 'a') as outfile:\n",
    "            json.dump(feature, outfile, indent=4)\n",
    "        # OPTIONAL song analysis (too much irrelavant data ATM.)    \n",
    "        \n",
    "        #analysis = sp._get(feature['analysis_url'])\n",
    "        #print(json.dumps(analysis, indent=4))\n",
    "        #print()\n",
    "# to write- get all IDs from big pandas dataframe and then save spotify features\n",
    "# save spotify data df as dataframe? or just sync it w training data."
   ]
  },
  {
   "cell_type": "code",
   "execution_count": 16,
   "metadata": {
    "collapsed": false
   },
   "outputs": [
    {
     "name": "stdout",
     "output_type": "stream",
     "text": [
      "{\n",
      "    \"track_href\": \"https://api.spotify.com/v1/tracks/5pvUkwWwiZVJWJjAWEQmuB\", \n",
      "    \"analysis_url\": \"https://api.spotify.com/v1/audio-analysis/5pvUkwWwiZVJWJjAWEQmuB\", \n",
      "    \"energy\": 0.245, \n",
      "    \"liveness\": 0.0799, \n",
      "    \"tempo\": 153.982, \n",
      "    \"speechiness\": 0.0642, \n",
      "    \"uri\": \"spotify:track:5pvUkwWwiZVJWJjAWEQmuB\", \n",
      "    \"acousticness\": 0.166, \n",
      "    \"instrumentalness\": 0.92, \n",
      "    \"time_signature\": 4, \n",
      "    \"danceability\": 0.744, \n",
      "    \"key\": 8, \n",
      "    \"duration_ms\": 108221, \n",
      "    \"loudness\": -12.48, \n",
      "    \"valence\": 0.876, \n",
      "    \"type\": \"audio_features\", \n",
      "    \"id\": \"5pvUkwWwiZVJWJjAWEQmuB\", \n",
      "    \"mode\": 0\n",
      "}\n",
      "()\n",
      "{\n",
      "    \"track_href\": \"https://api.spotify.com/v1/tracks/3oT7LCUCCJRYxCXawL9dLy\", \n",
      "    \"analysis_url\": \"https://api.spotify.com/v1/audio-analysis/3oT7LCUCCJRYxCXawL9dLy\", \n",
      "    \"energy\": 0.17, \n",
      "    \"liveness\": 0.11, \n",
      "    \"tempo\": 164.037, \n",
      "    \"speechiness\": 0.12, \n",
      "    \"uri\": \"spotify:track:3oT7LCUCCJRYxCXawL9dLy\", \n",
      "    \"acousticness\": 0.701, \n",
      "    \"instrumentalness\": 0.925, \n",
      "    \"time_signature\": 4, \n",
      "    \"danceability\": 0.849, \n",
      "    \"key\": 5, \n",
      "    \"duration_ms\": 124273, \n",
      "    \"loudness\": -11.198, \n",
      "    \"valence\": 0.545, \n",
      "    \"type\": \"audio_features\", \n",
      "    \"id\": \"3oT7LCUCCJRYxCXawL9dLy\", \n",
      "    \"mode\": 1\n",
      "}\n",
      "()\n",
      "{\n",
      "    \"track_href\": \"https://api.spotify.com/v1/tracks/2CfxwrI7cuNvLhNIxPnGS0\", \n",
      "    \"analysis_url\": \"https://api.spotify.com/v1/audio-analysis/2CfxwrI7cuNvLhNIxPnGS0\", \n",
      "    \"energy\": 0.473, \n",
      "    \"liveness\": 0.0806, \n",
      "    \"tempo\": 82.96, \n",
      "    \"speechiness\": 0.127, \n",
      "    \"uri\": \"spotify:track:2CfxwrI7cuNvLhNIxPnGS0\", \n",
      "    \"acousticness\": 0.679, \n",
      "    \"instrumentalness\": 0.00708, \n",
      "    \"time_signature\": 4, \n",
      "    \"danceability\": 0.578, \n",
      "    \"key\": 9, \n",
      "    \"duration_ms\": 118171, \n",
      "    \"loudness\": -12.018, \n",
      "    \"valence\": 0.168, \n",
      "    \"type\": \"audio_features\", \n",
      "    \"id\": \"2CfxwrI7cuNvLhNIxPnGS0\", \n",
      "    \"mode\": 0\n",
      "}\n",
      "()\n",
      "{\n",
      "    \"track_href\": \"https://api.spotify.com/v1/tracks/70RgKIoqwJ78ffRBmjxH0e\", \n",
      "    \"analysis_url\": \"https://api.spotify.com/v1/audio-analysis/70RgKIoqwJ78ffRBmjxH0e\", \n",
      "    \"energy\": 0.431, \n",
      "    \"liveness\": 0.179, \n",
      "    \"tempo\": 70.916, \n",
      "    \"speechiness\": 0.0349, \n",
      "    \"uri\": \"spotify:track:70RgKIoqwJ78ffRBmjxH0e\", \n",
      "    \"acousticness\": 0.415, \n",
      "    \"instrumentalness\": 0.936, \n",
      "    \"time_signature\": 4, \n",
      "    \"danceability\": 0.62, \n",
      "    \"key\": 8, \n",
      "    \"duration_ms\": 196447, \n",
      "    \"loudness\": -8.498, \n",
      "    \"valence\": 0.144, \n",
      "    \"type\": \"audio_features\", \n",
      "    \"id\": \"70RgKIoqwJ78ffRBmjxH0e\", \n",
      "    \"mode\": 1\n",
      "}\n",
      "()\n",
      "{\n",
      "    \"track_href\": \"https://api.spotify.com/v1/tracks/2KOGYBRYma8tIVjDEM9l5S\", \n",
      "    \"analysis_url\": \"https://api.spotify.com/v1/audio-analysis/2KOGYBRYma8tIVjDEM9l5S\", \n",
      "    \"energy\": 0.141, \n",
      "    \"liveness\": 0.084, \n",
      "    \"tempo\": 78.995, \n",
      "    \"speechiness\": 0.0637, \n",
      "    \"uri\": \"spotify:track:2KOGYBRYma8tIVjDEM9l5S\", \n",
      "    \"acousticness\": 0.735, \n",
      "    \"instrumentalness\": 0.652, \n",
      "    \"time_signature\": 1, \n",
      "    \"danceability\": 0.76, \n",
      "    \"key\": 0, \n",
      "    \"duration_ms\": 127595, \n",
      "    \"loudness\": -15.305, \n",
      "    \"valence\": 0.672, \n",
      "    \"type\": \"audio_features\", \n",
      "    \"id\": \"2KOGYBRYma8tIVjDEM9l5S\", \n",
      "    \"mode\": 0\n",
      "}\n",
      "()\n"
     ]
    }
   ],
   "source": [
    "get_audio_features_json(sp, spotify_data_df, 'spotify_df_1_16.json')"
   ]
  },
  {
   "cell_type": "code",
   "execution_count": 5,
   "metadata": {
    "collapsed": false,
    "scrolled": false
   },
   "outputs": [
    {
     "name": "stdout",
     "output_type": "stream",
     "text": [
      "2PXy9USZAoTSdtrxfkPBnl\n"
     ]
    },
    {
     "data": {
      "text/plain": [
       "u'2PXy9USZAoTSdtrxfkPBnl'"
      ]
     },
     "execution_count": 5,
     "metadata": {},
     "output_type": "execute_result"
    }
   ],
   "source": [
    "get_album_id_from_track(sp, '044qU7kwVZaDwzWnRsmVVL')"
   ]
  },
  {
   "cell_type": "code",
   "execution_count": 25,
   "metadata": {
    "collapsed": false
   },
   "outputs": [
    {
     "name": "stdout",
     "output_type": "stream",
     "text": [
      "song name:  summer nights.\n",
      "timestamp:  1516306957724\n",
      "artist name:  halberd\n",
      "artist id:  7ow7nXWCZuMoU09aRki7GB\n",
      "song id:  3uuiUK9uwMC1igjCPPJ0sz\n",
      "\n",
      "\n",
      "\n",
      "\n",
      "\n",
      "        \n",
      "[u'items', u'href', u'limit', u'cursors', u'next']\n",
      "https://api.spotify.com/v1/me/player/recently-played?limit=5\n",
      "{u'after': u'1516306794034', u'before': u'1516306406043'}\n",
      "https://api.spotify.com/v1/me/player/recently-played?before=1516306406043&limit=5\n",
      "name:  MILANO\n",
      "id:  6V0fnOISXTrs1lBI7uf3oo\n",
      "artist:  ØDYSSEE\n",
      "duration ms:  117289\n",
      "popularity:  56\n",
      "played:  2018-01-18T20:19:54.034Z\n",
      "type <type 'unicode'>\n",
      "[]\n",
      "name:  chonnchita\n",
      "id:  7l0dwVXLxg7kxR5ygHmnAf\n",
      "artist:  Bassti\n",
      "duration ms:  100101\n",
      "popularity:  57\n",
      "played:  2018-01-18T20:18:13.023Z\n",
      "type <type 'unicode'>\n",
      "[]\n",
      "name:  Idkanymore\n",
      "id:  6pFiKji7aJCwMIYKROgQw9\n",
      "artist:  Knowmadic\n",
      "duration ms:  84786\n",
      "popularity:  58\n",
      "played:  2018-01-18T20:16:47.734Z\n",
      "type <type 'unicode'>\n",
      "[]\n",
      "name:  mosey\n",
      "id:  7MxMYU9BvE7RMrIUSokL29\n",
      "artist:  joeshort\n",
      "duration ms:  96000\n",
      "popularity:  58\n",
      "played:  2018-01-18T20:15:11.242Z\n",
      "type <type 'unicode'>\n",
      "[]\n",
      "name:  Withu\n",
      "id:  76bqpXdcQBtnQw6ByKQjvO\n",
      "artist:  Blvk\n",
      "duration ms:  104620\n",
      "popularity:  61\n",
      "played:  2018-01-18T20:13:26.043Z\n",
      "type <type 'unicode'>\n",
      "[]\n",
      "[1516306794, 1516306693, 1516306607, 1516306511, 1516306406]\n"
     ]
    },
    {
     "ename": "AttributeError",
     "evalue": "'DataFrame' object has no attribute 'encode'",
     "output_type": "error",
     "traceback": [
      "\u001b[0;31m---------------------------------------------------------------------------\u001b[0m",
      "\u001b[0;31mAttributeError\u001b[0m                            Traceback (most recent call last)",
      "\u001b[0;32m<ipython-input-25-c4a926f7698c>\u001b[0m in \u001b[0;36m<module>\u001b[0;34m()\u001b[0m\n\u001b[1;32m      1\u001b[0m \u001b[0mspotify_data\u001b[0m \u001b[0;34m=\u001b[0m \u001b[0mcreate_spotify_df\u001b[0m\u001b[0;34m(\u001b[0m\u001b[0mtoken\u001b[0m\u001b[0;34m,\u001b[0m \u001b[0mscope\u001b[0m\u001b[0;34m)\u001b[0m\u001b[0;34m\u001b[0m\u001b[0m\n\u001b[0;32m----> 2\u001b[0;31m \u001b[0mspotify_data_df\u001b[0m \u001b[0;34m=\u001b[0m \u001b[0mpd\u001b[0m\u001b[0;34m.\u001b[0m\u001b[0mDataFrame\u001b[0m\u001b[0;34m(\u001b[0m\u001b[0mspotify_data\u001b[0m\u001b[0;34m)\u001b[0m\u001b[0;34m.\u001b[0m\u001b[0mencode\u001b[0m\u001b[0;34m(\u001b[0m\u001b[0;34m'utf-8'\u001b[0m\u001b[0;34m)\u001b[0m\u001b[0;34m\u001b[0m\u001b[0m\n\u001b[0m\u001b[1;32m      3\u001b[0m \u001b[0mspotify_data_df\u001b[0m\u001b[0;34m.\u001b[0m\u001b[0mset_index\u001b[0m\u001b[0;34m(\u001b[0m\u001b[0;34m'timestamp'\u001b[0m\u001b[0;34m)\u001b[0m\u001b[0;34m\u001b[0m\u001b[0m\n",
      "\u001b[0;32m/Users/aaronopp/anaconda/lib/python2.7/site-packages/pandas/core/generic.pyc\u001b[0m in \u001b[0;36m__getattr__\u001b[0;34m(self, name)\u001b[0m\n\u001b[1;32m   2742\u001b[0m             \u001b[0;32mif\u001b[0m \u001b[0mname\u001b[0m \u001b[0;32min\u001b[0m \u001b[0mself\u001b[0m\u001b[0;34m.\u001b[0m\u001b[0m_info_axis\u001b[0m\u001b[0;34m:\u001b[0m\u001b[0;34m\u001b[0m\u001b[0m\n\u001b[1;32m   2743\u001b[0m                 \u001b[0;32mreturn\u001b[0m \u001b[0mself\u001b[0m\u001b[0;34m[\u001b[0m\u001b[0mname\u001b[0m\u001b[0;34m]\u001b[0m\u001b[0;34m\u001b[0m\u001b[0m\n\u001b[0;32m-> 2744\u001b[0;31m             \u001b[0;32mreturn\u001b[0m \u001b[0mobject\u001b[0m\u001b[0;34m.\u001b[0m\u001b[0m__getattribute__\u001b[0m\u001b[0;34m(\u001b[0m\u001b[0mself\u001b[0m\u001b[0;34m,\u001b[0m \u001b[0mname\u001b[0m\u001b[0;34m)\u001b[0m\u001b[0;34m\u001b[0m\u001b[0m\n\u001b[0m\u001b[1;32m   2745\u001b[0m \u001b[0;34m\u001b[0m\u001b[0m\n\u001b[1;32m   2746\u001b[0m     \u001b[0;32mdef\u001b[0m \u001b[0m__setattr__\u001b[0m\u001b[0;34m(\u001b[0m\u001b[0mself\u001b[0m\u001b[0;34m,\u001b[0m \u001b[0mname\u001b[0m\u001b[0;34m,\u001b[0m \u001b[0mvalue\u001b[0m\u001b[0;34m)\u001b[0m\u001b[0;34m:\u001b[0m\u001b[0;34m\u001b[0m\u001b[0m\n",
      "\u001b[0;31mAttributeError\u001b[0m: 'DataFrame' object has no attribute 'encode'"
     ]
    }
   ],
   "source": [
    "spotify_data = create_spotify_df(token, scope)\n",
    "spotify_data_df = pd.DataFrame(spotify_data).encode('utf-8')\n",
    "spotify_data_df.set_index('timestamp')"
   ]
  },
  {
   "cell_type": "code",
   "execution_count": 29,
   "metadata": {
    "collapsed": false
   },
   "outputs": [
    {
     "data": {
      "text/plain": [
       "'5pvUkwWwiZVJWJjAWEQmuB'"
      ]
     },
     "execution_count": 29,
     "metadata": {},
     "output_type": "execute_result"
    }
   ],
   "source": [
    "ids[0].encode('utf-8')"
   ]
  },
  {
   "cell_type": "code",
   "execution_count": 21,
   "metadata": {
    "collapsed": false
   },
   "outputs": [],
   "source": [
    "spotify_data_df.to_csv('csvtest.csv')"
   ]
  },
  {
   "cell_type": "code",
   "execution_count": 7,
   "metadata": {
    "collapsed": false,
    "scrolled": false
   },
   "outputs": [
    {
     "name": "stdout",
     "output_type": "stream",
     "text": [
      "{\n",
      "    \"track_href\": \"https://api.spotify.com/v1/tracks/5pvUkwWwiZVJWJjAWEQmuB\", \n",
      "    \"analysis_url\": \"https://api.spotify.com/v1/audio-analysis/5pvUkwWwiZVJWJjAWEQmuB\", \n",
      "    \"energy\": 0.245, \n",
      "    \"liveness\": 0.0799, \n",
      "    \"tempo\": 153.982, \n",
      "    \"speechiness\": 0.0642, \n",
      "    \"uri\": \"spotify:track:5pvUkwWwiZVJWJjAWEQmuB\", \n",
      "    \"acousticness\": 0.166, \n",
      "    \"instrumentalness\": 0.92, \n",
      "    \"time_signature\": 4, \n",
      "    \"danceability\": 0.744, \n",
      "    \"key\": 8, \n",
      "    \"duration_ms\": 108221, \n",
      "    \"loudness\": -12.48, \n",
      "    \"valence\": 0.876, \n",
      "    \"type\": \"audio_features\", \n",
      "    \"id\": \"5pvUkwWwiZVJWJjAWEQmuB\", \n",
      "    \"mode\": 0\n",
      "}\n",
      "()\n",
      "{\n",
      "    \"track_href\": \"https://api.spotify.com/v1/tracks/3oT7LCUCCJRYxCXawL9dLy\", \n",
      "    \"analysis_url\": \"https://api.spotify.com/v1/audio-analysis/3oT7LCUCCJRYxCXawL9dLy\", \n",
      "    \"energy\": 0.17, \n",
      "    \"liveness\": 0.11, \n",
      "    \"tempo\": 164.037, \n",
      "    \"speechiness\": 0.12, \n",
      "    \"uri\": \"spotify:track:3oT7LCUCCJRYxCXawL9dLy\", \n",
      "    \"acousticness\": 0.701, \n",
      "    \"instrumentalness\": 0.925, \n",
      "    \"time_signature\": 4, \n",
      "    \"danceability\": 0.849, \n",
      "    \"key\": 5, \n",
      "    \"duration_ms\": 124273, \n",
      "    \"loudness\": -11.198, \n",
      "    \"valence\": 0.545, \n",
      "    \"type\": \"audio_features\", \n",
      "    \"id\": \"3oT7LCUCCJRYxCXawL9dLy\", \n",
      "    \"mode\": 1\n",
      "}\n",
      "()\n",
      "{\n",
      "    \"track_href\": \"https://api.spotify.com/v1/tracks/2CfxwrI7cuNvLhNIxPnGS0\", \n",
      "    \"analysis_url\": \"https://api.spotify.com/v1/audio-analysis/2CfxwrI7cuNvLhNIxPnGS0\", \n",
      "    \"energy\": 0.473, \n",
      "    \"liveness\": 0.0806, \n",
      "    \"tempo\": 82.96, \n",
      "    \"speechiness\": 0.127, \n",
      "    \"uri\": \"spotify:track:2CfxwrI7cuNvLhNIxPnGS0\", \n",
      "    \"acousticness\": 0.679, \n",
      "    \"instrumentalness\": 0.00708, \n",
      "    \"time_signature\": 4, \n",
      "    \"danceability\": 0.578, \n",
      "    \"key\": 9, \n",
      "    \"duration_ms\": 118171, \n",
      "    \"loudness\": -12.018, \n",
      "    \"valence\": 0.168, \n",
      "    \"type\": \"audio_features\", \n",
      "    \"id\": \"2CfxwrI7cuNvLhNIxPnGS0\", \n",
      "    \"mode\": 0\n",
      "}\n",
      "()\n",
      "{\n",
      "    \"track_href\": \"https://api.spotify.com/v1/tracks/70RgKIoqwJ78ffRBmjxH0e\", \n",
      "    \"analysis_url\": \"https://api.spotify.com/v1/audio-analysis/70RgKIoqwJ78ffRBmjxH0e\", \n",
      "    \"energy\": 0.431, \n",
      "    \"liveness\": 0.179, \n",
      "    \"tempo\": 70.916, \n",
      "    \"speechiness\": 0.0349, \n",
      "    \"uri\": \"spotify:track:70RgKIoqwJ78ffRBmjxH0e\", \n",
      "    \"acousticness\": 0.415, \n",
      "    \"instrumentalness\": 0.936, \n",
      "    \"time_signature\": 4, \n",
      "    \"danceability\": 0.62, \n",
      "    \"key\": 8, \n",
      "    \"duration_ms\": 196447, \n",
      "    \"loudness\": -8.498, \n",
      "    \"valence\": 0.144, \n",
      "    \"type\": \"audio_features\", \n",
      "    \"id\": \"70RgKIoqwJ78ffRBmjxH0e\", \n",
      "    \"mode\": 1\n",
      "}\n",
      "()\n",
      "{\n",
      "    \"track_href\": \"https://api.spotify.com/v1/tracks/2KOGYBRYma8tIVjDEM9l5S\", \n",
      "    \"analysis_url\": \"https://api.spotify.com/v1/audio-analysis/2KOGYBRYma8tIVjDEM9l5S\", \n",
      "    \"energy\": 0.141, \n",
      "    \"liveness\": 0.084, \n",
      "    \"tempo\": 78.995, \n",
      "    \"speechiness\": 0.0637, \n",
      "    \"uri\": \"spotify:track:2KOGYBRYma8tIVjDEM9l5S\", \n",
      "    \"acousticness\": 0.735, \n",
      "    \"instrumentalness\": 0.652, \n",
      "    \"time_signature\": 1, \n",
      "    \"danceability\": 0.76, \n",
      "    \"key\": 0, \n",
      "    \"duration_ms\": 127595, \n",
      "    \"loudness\": -15.305, \n",
      "    \"valence\": 0.672, \n",
      "    \"type\": \"audio_features\", \n",
      "    \"id\": \"2KOGYBRYma8tIVjDEM9l5S\", \n",
      "    \"mode\": 0\n",
      "}\n",
      "()\n"
     ]
    }
   ],
   "source": [
    "# get audio features for each track and save as a JSON!\n",
    "features = sp.audio_features(ids)\n",
    "features_json = []\n",
    "for feature in features:\n",
    "    #print feature\n",
    "    print(json.dumps(feature, indent=4))\n",
    "    print()\n",
    "    features_json.append(json.dumps(feature, indent=4))\n",
    "    with open('data.json', 'a') as outfile:\n",
    "        json.dump(feature, outfile, indent=4)\n",
    "    #analysis = sp._get(feature['analysis_url'])\n",
    "    #print(json.dumps(analysis, indent=4))\n",
    "    #print()"
   ]
  },
  {
   "cell_type": "code",
   "execution_count": 172,
   "metadata": {
    "collapsed": false
   },
   "outputs": [
    {
     "ename": "SyntaxError",
     "evalue": "invalid syntax (<ipython-input-172-6a0f1aa3c0e3>, line 6)",
     "output_type": "error",
     "traceback": [
      "\u001b[0;36m  File \u001b[0;32m\"<ipython-input-172-6a0f1aa3c0e3>\"\u001b[0;36m, line \u001b[0;32m6\u001b[0m\n\u001b[0;31m    print utc_timestamps\u001b[0m\n\u001b[0m                       ^\u001b[0m\n\u001b[0;31mSyntaxError\u001b[0m\u001b[0;31m:\u001b[0m invalid syntax\n"
     ]
    }
   ],
   "source": [
    "#get timestamps\n",
    "utc_timestamps = []\n",
    "for time in timestamp:\n",
    "\n",
    "    utc_timestamps.append(calendar.timegm(dateutil.parser.parse(time).timetuple()))\n",
    "print utc_timestamps"
   ]
  },
  {
   "cell_type": "code",
   "execution_count": 91,
   "metadata": {
    "collapsed": false
   },
   "outputs": [
    {
     "data": {
      "text/html": [
       "<div>\n",
       "<table border=\"1\" class=\"dataframe\">\n",
       "  <thead>\n",
       "    <tr style=\"text-align: right;\">\n",
       "      <th></th>\n",
       "      <th>artist</th>\n",
       "      <th>id</th>\n",
       "      <th>popularity</th>\n",
       "      <th>song</th>\n",
       "    </tr>\n",
       "    <tr>\n",
       "      <th>timestamp</th>\n",
       "      <th></th>\n",
       "      <th></th>\n",
       "      <th></th>\n",
       "      <th></th>\n",
       "    </tr>\n",
       "  </thead>\n",
       "  <tbody>\n",
       "    <tr>\n",
       "      <th>1516153593</th>\n",
       "      <td>Maxo Kream</td>\n",
       "      <td>3NcVvkKsZiwrny2SGn5SqE</td>\n",
       "      <td>48</td>\n",
       "      <td>Janky</td>\n",
       "    </tr>\n",
       "    <tr>\n",
       "      <th>1516153315</th>\n",
       "      <td>Maxo Kream</td>\n",
       "      <td>668DFatfdHGmq2s45NXiKD</td>\n",
       "      <td>49</td>\n",
       "      <td>Pop Another</td>\n",
       "    </tr>\n",
       "    <tr>\n",
       "      <th>1516153061</th>\n",
       "      <td>Jagwar Ma</td>\n",
       "      <td>4uZtm0cNm36PB3eSz5e3X6</td>\n",
       "      <td>7</td>\n",
       "      <td>The Throw - Spotify Sessions Curated by Jim Eno</td>\n",
       "    </tr>\n",
       "    <tr>\n",
       "      <th>1516152573</th>\n",
       "      <td>Gardens &amp; Villa</td>\n",
       "      <td>52bteDm5PRNSBoBcTXdxNg</td>\n",
       "      <td>10</td>\n",
       "      <td>Star Fire Power - Spotify Sessions Curated by ...</td>\n",
       "    </tr>\n",
       "    <tr>\n",
       "      <th>1516152507</th>\n",
       "      <td>Gardens &amp; Villa</td>\n",
       "      <td>52bteDm5PRNSBoBcTXdxNg</td>\n",
       "      <td>10</td>\n",
       "      <td>Star Fire Power - Spotify Sessions Curated by ...</td>\n",
       "    </tr>\n",
       "  </tbody>\n",
       "</table>\n",
       "</div>"
      ],
      "text/plain": [
       "                     artist                      id  popularity  \\\n",
       "timestamp                                                         \n",
       "1516153593       Maxo Kream  3NcVvkKsZiwrny2SGn5SqE          48   \n",
       "1516153315       Maxo Kream  668DFatfdHGmq2s45NXiKD          49   \n",
       "1516153061        Jagwar Ma  4uZtm0cNm36PB3eSz5e3X6           7   \n",
       "1516152573  Gardens & Villa  52bteDm5PRNSBoBcTXdxNg          10   \n",
       "1516152507  Gardens & Villa  52bteDm5PRNSBoBcTXdxNg          10   \n",
       "\n",
       "                                                         song  \n",
       "timestamp                                                      \n",
       "1516153593                                              Janky  \n",
       "1516153315                                        Pop Another  \n",
       "1516153061    The Throw - Spotify Sessions Curated by Jim Eno  \n",
       "1516152573  Star Fire Power - Spotify Sessions Curated by ...  \n",
       "1516152507  Star Fire Power - Spotify Sessions Curated by ...  "
      ]
     },
     "execution_count": 91,
     "metadata": {},
     "output_type": "execute_result"
    }
   ],
   "source": [
    "# create dataframe of basic data.\n",
    "spotify_data = {'timestamp': utc_timestamps, 'artist': artists, 'song': songs, 'id': ids, 'popularity': popularities}\n"
   ]
  },
  {
   "cell_type": "code",
   "execution_count": 82,
   "metadata": {
    "collapsed": false
   },
   "outputs": [
    {
     "name": "stdout",
     "output_type": "stream",
     "text": [
      "1516180450\n"
     ]
    }
   ],
   "source": [
    "parsed_t = dp.parse('2018-01-17T01:14:10.702Z')\n",
    "t_in_seconds = parsed_t.strftime('%s')\n",
    "print t_in_seconds"
   ]
  },
  {
   "cell_type": "code",
   "execution_count": 65,
   "metadata": {
    "collapsed": false
   },
   "outputs": [
    {
     "data": {
      "text/plain": [
       "1516151650"
      ]
     },
     "execution_count": 65,
     "metadata": {},
     "output_type": "execute_result"
    }
   ],
   "source": [
    "calendar.timegm(dateutil.parser.parse('2018-01-17T01:14:10.702Z').timetuple())"
   ]
  },
  {
   "cell_type": "code",
   "execution_count": 28,
   "metadata": {
    "collapsed": false,
    "scrolled": true
   },
   "outputs": [
    {
     "data": {
      "text/plain": [
       "27686732"
      ]
     },
     "execution_count": 28,
     "metadata": {},
     "output_type": "execute_result"
    }
   ],
   "source": [
    "1516177632000-1516149945268"
   ]
  },
  {
   "cell_type": "code",
   "execution_count": 30,
   "metadata": {
    "collapsed": true
   },
   "outputs": [],
   "source": [
    "import datetime as datetime"
   ]
  },
  {
   "cell_type": "code",
   "execution_count": 31,
   "metadata": {
    "collapsed": false
   },
   "outputs": [
    {
     "ename": "AttributeError",
     "evalue": "'module' object has no attribute 'utcfromtimestamp'",
     "output_type": "error",
     "traceback": [
      "\u001b[0;31m---------------------------------------------------------------------------\u001b[0m",
      "\u001b[0;31mAttributeError\u001b[0m                            Traceback (most recent call last)",
      "\u001b[0;32m<ipython-input-31-e847e8c61875>\u001b[0m in \u001b[0;36m<module>\u001b[0;34m()\u001b[0m\n\u001b[0;32m----> 1\u001b[0;31m \u001b[0mdatetime\u001b[0m\u001b[0;34m.\u001b[0m\u001b[0mutcfromtimestamp\u001b[0m\u001b[0;34m(\u001b[0m\u001b[0;36m455051100\u001b[0m\u001b[0;34m)\u001b[0m\u001b[0;34m\u001b[0m\u001b[0m\n\u001b[0m",
      "\u001b[0;31mAttributeError\u001b[0m: 'module' object has no attribute 'utcfromtimestamp'"
     ]
    }
   ],
   "source": [
    "datetime.utcfromtimestamp(455051100)"
   ]
  },
  {
   "cell_type": "code",
   "execution_count": 45,
   "metadata": {
    "collapsed": false
   },
   "outputs": [
    {
     "name": "stdout",
     "output_type": "stream",
     "text": [
      "song name:  Thorn Castles - Spotify Sessions Curated by Jim Eno\n",
      "timestamp:  1516152275630\n",
      "artist name:  Gardens & Villa\n",
      "artist id:  5NgfalfOtMDHkJ0SbFAxyA\n",
      "song id:  5Oz95fjUdmNelcvFv4BTX4\n",
      "0.390873193741\n"
     ]
    }
   ],
   "source": [
    "scope = 'user-read-playback-state user-read-recently-played'\n",
    "\n",
    "token = util.prompt_for_user_token('aaronopp', scope, client_id='dbe2a20785304190b8e35d5d6644397b', client_secret='cc259d8378be48beaad9171a5afb19ba', redirect_uri='http://localhost:8888/callback')\n",
    "\n",
    "\n",
    "start = time.time()\n",
    "if token:\n",
    "    sp = spotipy.Spotify(auth=token)\n",
    "    sp.trace=False\n",
    "    ranges = ['short_term', 'medium_term', 'long_term']\n",
    "    #esults = sp.current_user_playing_track()\n",
    "    curr_results = sp.current_playback()\n",
    "    #print curr_results\n",
    "    #print 'current playback keys ', curr_results.keys()\n",
    "    #print results['item']\n",
    "    #print 'user playing track keys', results.keys()\n",
    "    print 'song name: ', curr_results['item']['name']\n",
    "    print 'timestamp: ', curr_results['timestamp']\n",
    "    artist_info = curr_results['item']['artists']\n",
    "    print 'artist name: ', artist_info[0]['name']\n",
    "    print 'artist id: ', artist_info[0]['id']\n",
    "\t\n",
    "\n",
    "\n",
    "\t#print curr_results['timestamp']\n",
    "    #print 'type name: ', curr_results['item']['type']\n",
    "    print 'song id: ', curr_results['item']['id']\n",
    "    \n",
    "else:\n",
    "    print \"Can't get token for\", username\n",
    "\n",
    "print time.time() - start"
   ]
  }
 ],
 "metadata": {
  "kernelspec": {
   "display_name": "Python 2",
   "language": "python",
   "name": "python2"
  },
  "language_info": {
   "codemirror_mode": {
    "name": "ipython",
    "version": 2
   },
   "file_extension": ".py",
   "mimetype": "text/x-python",
   "name": "python",
   "nbconvert_exporter": "python",
   "pygments_lexer": "ipython2",
   "version": "2.7.13"
  }
 },
 "nbformat": 4,
 "nbformat_minor": 2
}
