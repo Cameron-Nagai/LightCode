{
 "cells": [
  {
   "cell_type": "code",
   "execution_count": 1,
   "metadata": {
    "collapsed": false
   },
   "outputs": [
    {
     "name": "stderr",
     "output_type": "stream",
     "text": [
      "Using TensorFlow backend.\n"
     ]
    },
    {
     "ename": "ImportError",
     "evalue": "No module named tensorflow",
     "output_type": "error",
     "traceback": [
      "\u001b[0;31m---------------------------------------------------------------------------\u001b[0m",
      "\u001b[0;31mImportError\u001b[0m                               Traceback (most recent call last)",
      "\u001b[0;32m<ipython-input-1-7f9783834731>\u001b[0m in \u001b[0;36m<module>\u001b[0;34m()\u001b[0m\n\u001b[1;32m      7\u001b[0m \u001b[0;32mimport\u001b[0m \u001b[0mtheano\u001b[0m\u001b[0;34m\u001b[0m\u001b[0m\n\u001b[1;32m      8\u001b[0m \u001b[0;31m#from train_network import build_model\u001b[0m\u001b[0;34m\u001b[0m\u001b[0;34m\u001b[0m\u001b[0m\n\u001b[0;32m----> 9\u001b[0;31m \u001b[0;32mimport\u001b[0m \u001b[0mkeras\u001b[0m\u001b[0;34m\u001b[0m\u001b[0m\n\u001b[0m\u001b[1;32m     10\u001b[0m \u001b[0;34m\u001b[0m\u001b[0m\n\u001b[1;32m     11\u001b[0m \u001b[0;34m\u001b[0m\u001b[0m\n",
      "\u001b[0;32m/Users/aaronopp/anaconda/lib/python2.7/site-packages/keras/__init__.py\u001b[0m in \u001b[0;36m<module>\u001b[0;34m()\u001b[0m\n\u001b[1;32m      1\u001b[0m \u001b[0;32mfrom\u001b[0m \u001b[0m__future__\u001b[0m \u001b[0;32mimport\u001b[0m \u001b[0mabsolute_import\u001b[0m\u001b[0;34m\u001b[0m\u001b[0m\n\u001b[0;32m----> 2\u001b[0;31m \u001b[0;32mfrom\u001b[0m \u001b[0;34m.\u001b[0m \u001b[0;32mimport\u001b[0m \u001b[0mbackend\u001b[0m\u001b[0;34m\u001b[0m\u001b[0m\n\u001b[0m\u001b[1;32m      3\u001b[0m \u001b[0;32mfrom\u001b[0m \u001b[0;34m.\u001b[0m \u001b[0;32mimport\u001b[0m \u001b[0mdatasets\u001b[0m\u001b[0;34m\u001b[0m\u001b[0m\n\u001b[1;32m      4\u001b[0m \u001b[0;32mfrom\u001b[0m \u001b[0;34m.\u001b[0m \u001b[0;32mimport\u001b[0m \u001b[0mengine\u001b[0m\u001b[0;34m\u001b[0m\u001b[0m\n\u001b[1;32m      5\u001b[0m \u001b[0;32mfrom\u001b[0m \u001b[0;34m.\u001b[0m \u001b[0;32mimport\u001b[0m \u001b[0mlayers\u001b[0m\u001b[0;34m\u001b[0m\u001b[0m\n",
      "\u001b[0;32m/Users/aaronopp/anaconda/lib/python2.7/site-packages/keras/backend/__init__.py\u001b[0m in \u001b[0;36m<module>\u001b[0;34m()\u001b[0m\n\u001b[1;32m     65\u001b[0m \u001b[0;32melif\u001b[0m \u001b[0m_BACKEND\u001b[0m \u001b[0;34m==\u001b[0m \u001b[0;34m'tensorflow'\u001b[0m\u001b[0;34m:\u001b[0m\u001b[0;34m\u001b[0m\u001b[0m\n\u001b[1;32m     66\u001b[0m     \u001b[0msys\u001b[0m\u001b[0;34m.\u001b[0m\u001b[0mstderr\u001b[0m\u001b[0;34m.\u001b[0m\u001b[0mwrite\u001b[0m\u001b[0;34m(\u001b[0m\u001b[0;34m'Using TensorFlow backend.\\n'\u001b[0m\u001b[0;34m)\u001b[0m\u001b[0;34m\u001b[0m\u001b[0m\n\u001b[0;32m---> 67\u001b[0;31m     \u001b[0;32mfrom\u001b[0m \u001b[0;34m.\u001b[0m\u001b[0mtensorflow_backend\u001b[0m \u001b[0;32mimport\u001b[0m \u001b[0;34m*\u001b[0m\u001b[0;34m\u001b[0m\u001b[0m\n\u001b[0m\u001b[1;32m     68\u001b[0m \u001b[0;32melse\u001b[0m\u001b[0;34m:\u001b[0m\u001b[0;34m\u001b[0m\u001b[0m\n\u001b[1;32m     69\u001b[0m     \u001b[0;32mraise\u001b[0m \u001b[0mValueError\u001b[0m\u001b[0;34m(\u001b[0m\u001b[0;34m'Unknown backend: '\u001b[0m \u001b[0;34m+\u001b[0m \u001b[0mstr\u001b[0m\u001b[0;34m(\u001b[0m\u001b[0m_BACKEND\u001b[0m\u001b[0;34m)\u001b[0m\u001b[0;34m)\u001b[0m\u001b[0;34m\u001b[0m\u001b[0m\n",
      "\u001b[0;32m/Users/aaronopp/anaconda/lib/python2.7/site-packages/keras/backend/tensorflow_backend.py\u001b[0m in \u001b[0;36m<module>\u001b[0;34m()\u001b[0m\n\u001b[0;32m----> 1\u001b[0;31m \u001b[0;32mimport\u001b[0m \u001b[0mtensorflow\u001b[0m \u001b[0;32mas\u001b[0m \u001b[0mtf\u001b[0m\u001b[0;34m\u001b[0m\u001b[0m\n\u001b[0m\u001b[1;32m      2\u001b[0m \u001b[0;34m\u001b[0m\u001b[0m\n\u001b[1;32m      3\u001b[0m \u001b[0;32mfrom\u001b[0m \u001b[0mtensorflow\u001b[0m\u001b[0;34m.\u001b[0m\u001b[0mpython\u001b[0m\u001b[0;34m.\u001b[0m\u001b[0mtraining\u001b[0m \u001b[0;32mimport\u001b[0m \u001b[0mmoving_averages\u001b[0m\u001b[0;34m\u001b[0m\u001b[0m\n\u001b[1;32m      4\u001b[0m \u001b[0;32mfrom\u001b[0m \u001b[0mtensorflow\u001b[0m\u001b[0;34m.\u001b[0m\u001b[0mpython\u001b[0m\u001b[0;34m.\u001b[0m\u001b[0mops\u001b[0m \u001b[0;32mimport\u001b[0m \u001b[0mtensor_array_ops\u001b[0m\u001b[0;34m\u001b[0m\u001b[0m\n\u001b[1;32m      5\u001b[0m \u001b[0;32mfrom\u001b[0m \u001b[0mtensorflow\u001b[0m\u001b[0;34m.\u001b[0m\u001b[0mpython\u001b[0m\u001b[0;34m.\u001b[0m\u001b[0mops\u001b[0m \u001b[0;32mimport\u001b[0m \u001b[0mcontrol_flow_ops\u001b[0m\u001b[0;34m\u001b[0m\u001b[0m\n",
      "\u001b[0;31mImportError\u001b[0m: No module named tensorflow"
     ]
    }
   ],
   "source": [
    "import time\n",
    "import threading\n",
    "from librosa.feature import melspectrogram\n",
    "import time\n",
    "import matplotlib.pyplot as plt\n",
    "import numpy as np\n",
    "import theano\n",
    "#from train_network import build_model\n",
    "import keras\n",
    "\n",
    "\n",
    "# tools to create the music tagging dataset\n",
    "import os\n",
    "import sys\n",
    "module_path = os.path.abspath(os.path.join('..'))\n",
    "if module_path not in sys.path:\n",
    "    sys.path.append(module_path)\n",
    "    \n",
    "import pandas as pd\n",
    "import numpy as np\n",
    "import matplotlib.pyplot as plt\n",
    "import os\n",
    "from os.path import isfile\n",
    "\n",
    "import ast\n",
    "import glob\n",
    "\n",
    "import pickle\n",
    "import json\n",
    "from pprint import pprint\n",
    "\n",
    "from shutil import copyfile\n",
    "\n",
    "import librosa\n",
    "import librosa.display\n",
    "\n",
    "from collections import Counter\n",
    "from sklearn.metrics import classification_report, accuracy_score\n",
    "\n",
    "from keras import backend as K\n",
    "\n",
    "from keras.models import Sequential, Model\n",
    "from keras.layers import Input, Dense, TimeDistributed, LSTM, Dropout, Activation\n",
    "from keras.layers import Convolution2D, MaxPooling2D, Flatten, AveragePooling2D, ZeroPadding2D\n",
    "from keras.layers.normalization import BatchNormalization\n",
    "from keras.layers.advanced_activations import ELU, LeakyReLU\n",
    "from keras.callbacks import ModelCheckpoint\n",
    "from keras import backend\n",
    "from keras import metrics\n",
    "from keras.utils import np_utils\n",
    "from keras.optimizers import Adam\n",
    "from keras.optimizers import SGD\n",
    "from keras.callbacks import ModelCheckpoint\n",
    "\n",
    "from sklearn.preprocessing import normalize\n",
    "from sklearn.metrics import matthews_corrcoef\n",
    "from sklearn.metrics import hamming_loss, coverage_error, label_ranking_average_precision_score, label_ranking_loss\n",
    "from keras import optimizers\n",
    "from timeit import default_timer as timer\n",
    "\n",
    "from time import sleep\n",
    "from numpy import array, random, arange, float32, float64, zeros\n",
    "import matplotlib.pyplot as plt\n",
    "import sounddevice as sd\n",
    "\n",
    "%matplotlib inline\n",
    "%load_ext autoreload\n",
    "\n",
    "%autoreload\n"
   ]
  },
  {
   "cell_type": "code",
   "execution_count": null,
   "metadata": {
    "collapsed": false
   },
   "outputs": [],
   "source": [
    "spotify_df =pd.read_csv(\"training_data/aaronopp/7_12/spotify_data_16_24_raw.csv\")"
   ]
  },
  {
   "cell_type": "code",
   "execution_count": 4,
   "metadata": {
    "collapsed": true
   },
   "outputs": [],
   "source": [
    "z = np.load(\"training_data/aaronopp/7_12/time_test_scaled_raw_16_24.npy\")"
   ]
  },
  {
   "cell_type": "code",
   "execution_count": 5,
   "metadata": {
    "collapsed": true
   },
   "outputs": [],
   "source": [
    "x_data = np.load(\"training_data/aaronopp/7_12/x_train_raw_16_24.npy\")"
   ]
  },
  {
   "cell_type": "code",
   "execution_count": 10,
   "metadata": {
    "collapsed": false
   },
   "outputs": [
    {
     "data": {
      "text/plain": [
       "(69, 1, 96, 626)"
      ]
     },
     "execution_count": 10,
     "metadata": {},
     "output_type": "execute_result"
    }
   ],
   "source": [
    "x_data.shape"
   ]
  },
  {
   "cell_type": "code",
   "execution_count": 12,
   "metadata": {
    "collapsed": false
   },
   "outputs": [
    {
     "data": {
      "text/plain": [
       "array([[[-23.00071928, -13.47370354, -12.50003944, ..., -23.51357579,\n",
       "         -11.10458266,  -2.54079467],\n",
       "        [ -7.12202626, -11.88587405,  -4.84745781, ..., -15.0493997 ,\n",
       "         -15.48549513,  -1.74808823],\n",
       "        [ -0.34551174,  -0.09420583,   1.76366239, ...,  -0.79393996,\n",
       "          -1.86405151, -14.05624476],\n",
       "        ...,\n",
       "        [-41.00698085, -44.0141247 , -43.67429243, ..., -52.63910209,\n",
       "         -49.60159208, -40.94545638],\n",
       "        [-49.41385766, -49.49960652, -50.29124915, ..., -53.54322556,\n",
       "         -49.84681133, -42.4131836 ],\n",
       "        [-49.5201958 , -53.06039718, -58.97734865, ..., -52.9691076 ,\n",
       "         -56.41906495, -42.64668986]]])"
      ]
     },
     "execution_count": 12,
     "metadata": {},
     "output_type": "execute_result"
    }
   ],
   "source": [
    "x_data[1]"
   ]
  },
  {
   "cell_type": "code",
   "execution_count": 16,
   "metadata": {
    "collapsed": false
   },
   "outputs": [
    {
     "name": "stdout",
     "output_type": "stream",
     "text": [
      "(96, 626)\n"
     ]
    },
    {
     "name": "stderr",
     "output_type": "stream",
     "text": [
      "/Users/aaronopp/anaconda/envs/py36/lib/python3.6/site-packages/librosa/display.py:656: FutureWarning: Conversion of the second argument of issubdtype from `complex` to `np.complexfloating` is deprecated. In future, it will be treated as `np.complex128 == np.dtype(complex).type`.\n",
      "  if np.issubdtype(data.dtype, np.complex):\n"
     ]
    },
    {
     "data": {
      "image/png": "[encoded data removed]",
      "text/plain": [
       "<matplotlib.figure.Figure at 0x1c1e38d320>"
      ]
     },
     "metadata": {},
     "output_type": "display_data"
    }
   ],
   "source": [
    "graph_MS(x_data[1], 0)"
   ]
  },
  {
   "cell_type": "code",
   "execution_count": 17,
   "metadata": {
    "collapsed": false
   },
   "outputs": [
    {
     "data": {
      "text/plain": [
       "array([[[-23.00071928, -13.47370354, -12.50003944, ..., -23.51357579,\n",
       "         -11.10458266,  -2.54079467],\n",
       "        [ -7.12202626, -11.88587405,  -4.84745781, ..., -15.0493997 ,\n",
       "         -15.48549513,  -1.74808823],\n",
       "        [ -0.34551174,  -0.09420583,   1.76366239, ...,  -0.79393996,\n",
       "          -1.86405151, -14.05624476],\n",
       "        ...,\n",
       "        [-41.00698085, -44.0141247 , -43.67429243, ..., -52.63910209,\n",
       "         -49.60159208, -40.94545638],\n",
       "        [-49.41385766, -49.49960652, -50.29124915, ..., -53.54322556,\n",
       "         -49.84681133, -42.4131836 ],\n",
       "        [-49.5201958 , -53.06039718, -58.97734865, ..., -52.9691076 ,\n",
       "         -56.41906495, -42.64668986]]])"
      ]
     },
     "execution_count": 17,
     "metadata": {},
     "output_type": "execute_result"
    }
   ],
   "source": []
  },
  {
   "cell_type": "code",
   "execution_count": 14,
   "metadata": {
    "collapsed": true
   },
   "outputs": [],
   "source": [
    "from utils import *\n"
   ]
  },
  {
   "cell_type": "code",
   "execution_count": 4,
   "metadata": {
    "collapsed": true
   },
   "outputs": [],
   "source": [
    "output_on_osc_route = '/lx/output/enabled'"
   ]
  },
  {
   "cell_type": "code",
   "execution_count": 20,
   "metadata": {
    "collapsed": true
   },
   "outputs": [],
   "source": [
    "client = udp_client.SimpleUDPClient(\"0.0.0.0\", 3030)\n",
    "\n",
    "def send_osc(route, message):\n",
    "    client.send_message(route, message)"
   ]
  },
  {
   "cell_type": "code",
   "execution_count": 9,
   "metadata": {
    "collapsed": false
   },
   "outputs": [
    {
     "ename": "TypeError",
     "evalue": "'SimpleUDPClient' object is not callable",
     "output_type": "error",
     "traceback": [
      "\u001b[0;31m---------------------------------------------------------------------------\u001b[0m",
      "\u001b[0;31mTypeError\u001b[0m                                 Traceback (most recent call last)",
      "\u001b[0;32m<ipython-input-9-3ac33ab8d6fc>\u001b[0m in \u001b[0;36m<module>\u001b[0;34m()\u001b[0m\n\u001b[0;32m----> 1\u001b[0;31m \u001b[0mclient\u001b[0m\u001b[0;34m(\u001b[0m\u001b[0;34m)\u001b[0m\u001b[0;34m\u001b[0m\u001b[0m\n\u001b[0m",
      "\u001b[0;31mTypeError\u001b[0m: 'SimpleUDPClient' object is not callable"
     ]
    }
   ],
   "source": [
    "client()"
   ]
  },
  {
   "cell_type": "code",
   "execution_count": 21,
   "metadata": {
    "collapsed": true
   },
   "outputs": [],
   "source": [
    "send_osc(output_on_osc_route, 1)\n"
   ]
  },
  {
   "cell_type": "code",
   "execution_count": 3,
   "metadata": {
    "collapsed": false
   },
   "outputs": [
    {
     "data": {
      "text/plain": [
       "'0.5.1'"
      ]
     },
     "execution_count": 3,
     "metadata": {},
     "output_type": "execute_result"
    }
   ],
   "source": [
    "librosa.__version__"
   ]
  },
  {
   "cell_type": "raw",
   "metadata": {},
   "source": [
    "a"
   ]
  },
  {
   "cell_type": "code",
   "execution_count": 3,
   "metadata": {
    "collapsed": false
   },
   "outputs": [
    {
     "data": {
      "text/plain": [
       "'/Users/aaronopp/Desktop/SymmetryLabs/SLStudio/AI_VJ'"
      ]
     },
     "execution_count": 3,
     "metadata": {},
     "output_type": "execute_result"
    }
   ],
   "source": [
    "######################################################################\n",
    "#                      GET data FROM LOGGER\n",
    "######################################################################\n",
    "\n",
    "\n",
    "#data_file = \"/Users/aaronopp/Desktop/logger/data/out.txt\"\n",
    "TRAINING_DATA_PATH = '/Users/aaronopp/Desktop/SymmetryLabs/SLStudio/AI_VJ/training_data/'\n",
    "data_file =  TRAINING_DATA_PATH + 'logger_training_output_raw_17_21.txt'\n",
    "%pwd"
   ]
  },
  {
   "cell_type": "code",
   "execution_count": 4,
   "metadata": {
    "collapsed": false
   },
   "outputs": [
    {
     "ename": "FileNotFoundError",
     "evalue": "[Errno 2] No such file or directory: '/Users/aaronopp/Desktop/SymmetryLabs/SLStudio/AI_VJ/training_data/x_train_raw_17_21.npy'",
     "output_type": "error",
     "traceback": [
      "\u001b[0;31m---------------------------------------------------------------------------\u001b[0m",
      "\u001b[0;31mFileNotFoundError\u001b[0m                         Traceback (most recent call last)",
      "\u001b[0;32m<ipython-input-4-6adcf216f1b3>\u001b[0m in \u001b[0;36m<module>\u001b[0;34m()\u001b[0m\n\u001b[0;32m----> 1\u001b[0;31m \u001b[0mX_test\u001b[0m \u001b[0;34m=\u001b[0m \u001b[0mnp\u001b[0m\u001b[0;34m.\u001b[0m\u001b[0mload\u001b[0m\u001b[0;34m(\u001b[0m\u001b[0mTRAINING_DATA_PATH\u001b[0m \u001b[0;34m+\u001b[0m \u001b[0;34m'x_train_raw_17_21.npy'\u001b[0m\u001b[0;34m)\u001b[0m\u001b[0;34m\u001b[0m\u001b[0m\n\u001b[0m\u001b[1;32m      2\u001b[0m \u001b[0mtime_test_scaled\u001b[0m \u001b[0;34m=\u001b[0m \u001b[0mnp\u001b[0m\u001b[0;34m.\u001b[0m\u001b[0mload\u001b[0m\u001b[0;34m(\u001b[0m\u001b[0mTRAINING_DATA_PATH\u001b[0m \u001b[0;34m+\u001b[0m \u001b[0;34m'time_test_scaled_raw_17_21.npy'\u001b[0m\u001b[0;34m)\u001b[0m\u001b[0;34m\u001b[0m\u001b[0m\n\u001b[1;32m      3\u001b[0m \u001b[0;34m\u001b[0m\u001b[0m\n",
      "\u001b[0;32m~/anaconda/envs/py36/lib/python3.6/site-packages/numpy/lib/npyio.py\u001b[0m in \u001b[0;36mload\u001b[0;34m(file, mmap_mode, allow_pickle, fix_imports, encoding)\u001b[0m\n\u001b[1;32m    368\u001b[0m     \u001b[0mown_fid\u001b[0m \u001b[0;34m=\u001b[0m \u001b[0;32mFalse\u001b[0m\u001b[0;34m\u001b[0m\u001b[0m\n\u001b[1;32m    369\u001b[0m     \u001b[0;32mif\u001b[0m \u001b[0misinstance\u001b[0m\u001b[0;34m(\u001b[0m\u001b[0mfile\u001b[0m\u001b[0;34m,\u001b[0m \u001b[0mbasestring\u001b[0m\u001b[0;34m)\u001b[0m\u001b[0;34m:\u001b[0m\u001b[0;34m\u001b[0m\u001b[0m\n\u001b[0;32m--> 370\u001b[0;31m         \u001b[0mfid\u001b[0m \u001b[0;34m=\u001b[0m \u001b[0mopen\u001b[0m\u001b[0;34m(\u001b[0m\u001b[0mfile\u001b[0m\u001b[0;34m,\u001b[0m \u001b[0;34m\"rb\"\u001b[0m\u001b[0;34m)\u001b[0m\u001b[0;34m\u001b[0m\u001b[0m\n\u001b[0m\u001b[1;32m    371\u001b[0m         \u001b[0mown_fid\u001b[0m \u001b[0;34m=\u001b[0m \u001b[0;32mTrue\u001b[0m\u001b[0;34m\u001b[0m\u001b[0m\n\u001b[1;32m    372\u001b[0m     \u001b[0;32melif\u001b[0m \u001b[0mis_pathlib_path\u001b[0m\u001b[0;34m(\u001b[0m\u001b[0mfile\u001b[0m\u001b[0;34m)\u001b[0m\u001b[0;34m:\u001b[0m\u001b[0;34m\u001b[0m\u001b[0m\n",
      "\u001b[0;31mFileNotFoundError\u001b[0m: [Errno 2] No such file or directory: '/Users/aaronopp/Desktop/SymmetryLabs/SLStudio/AI_VJ/training_data/x_train_raw_17_21.npy'"
     ]
    }
   ],
   "source": [
    "X_test = np.load(TRAINING_DATA_PATH + 'x_train_raw_17_21.npy')\n",
    "time_test_scaled = np.load(TRAINING_DATA_PATH + 'time_test_scaled_raw_17_21.npy')\n",
    "\n"
   ]
  },
  {
   "cell_type": "code",
   "execution_count": 6,
   "metadata": {
    "collapsed": false
   },
   "outputs": [
    {
     "data": {
      "text/plain": [
       "'/Users/aaronopp/Desktop/SymmetryLabs/SLStudio/AI_VJ'"
      ]
     },
     "execution_count": 6,
     "metadata": {},
     "output_type": "execute_result"
    }
   ],
   "source": [
    "%pwd"
   ]
  },
  {
   "cell_type": "code",
   "execution_count": 8,
   "metadata": {
    "collapsed": false
   },
   "outputs": [
    {
     "name": "stdout",
     "output_type": "stream",
     "text": [
      "/Users/aaronopp/Desktop/SymmetryLabs/SLStudio/AI_VJ/training_data\n"
     ]
    }
   ],
   "source": [
    "%cd training_data"
   ]
  },
  {
   "cell_type": "code",
   "execution_count": 9,
   "metadata": {
    "collapsed": false
   },
   "outputs": [
    {
     "name": "stdout",
     "output_type": "stream",
     "text": [
      "\u001b[1m\u001b[36maaron_test\u001b[m\u001b[m/   \u001b[1m\u001b[36maaronopp\u001b[m\u001b[m/     \u001b[1m\u001b[36maugmentation\u001b[m\u001b[m/ \u001b[1m\u001b[36mnotebooks\u001b[m\u001b[m/    \u001b[1m\u001b[36mtest\u001b[m\u001b[m/\r\n"
     ]
    }
   ],
   "source": [
    "%ls"
   ]
  },
  {
   "cell_type": "code",
   "execution_count": 11,
   "metadata": {
    "collapsed": false
   },
   "outputs": [
    {
     "name": "stdout",
     "output_type": "stream",
     "text": [
      "/Users/aaronopp/Desktop/SymmetryLabs/SLStudio/AI_VJ/training_data/aaronopp\n"
     ]
    }
   ],
   "source": [
    "%cd aaronopp"
   ]
  },
  {
   "cell_type": "code",
   "execution_count": 12,
   "metadata": {
    "collapsed": false
   },
   "outputs": [
    {
     "name": "stdout",
     "output_type": "stream",
     "text": [
      "\u001b[1m\u001b[36m2_2\u001b[m\u001b[m/  \u001b[1m\u001b[36m3_27\u001b[m\u001b[m/\r\n"
     ]
    }
   ],
   "source": [
    "%ls"
   ]
  },
  {
   "cell_type": "code",
   "execution_count": 13,
   "metadata": {
    "collapsed": false
   },
   "outputs": [
    {
     "name": "stdout",
     "output_type": "stream",
     "text": [
      "/Users/aaronopp/Desktop/SymmetryLabs/SLStudio/AI_VJ/training_data/aaronopp/2_2\n"
     ]
    }
   ],
   "source": [
    "%cd 2_2"
   ]
  },
  {
   "cell_type": "code",
   "execution_count": null,
   "metadata": {
    "collapsed": true
   },
   "outputs": [],
   "source": []
  },
  {
   "cell_type": "code",
   "execution_count": 17,
   "metadata": {
    "collapsed": false,
    "scrolled": true
   },
   "outputs": [
    {
     "name": "stdout",
     "output_type": "stream",
     "text": [
      "[Errno 2] No such file or directory: '../aaron_test'\n",
      "/Users/aaronopp/Desktop/SymmetryLabs/SLStudio/AI_VJ/training_data/aaronopp/2_2\n"
     ]
    }
   ],
   "source": [
    "%cd ../aaron_test"
   ]
  },
  {
   "cell_type": "code",
   "execution_count": 24,
   "metadata": {
    "collapsed": false
   },
   "outputs": [
    {
     "name": "stdout",
     "output_type": "stream",
     "text": [
      "/Users/aaronopp/Desktop/SymmetryLabs/SLStudio/AI_VJ/training_data/aaron_test/3_28\n",
      "logger_training_output_raw_12_5.txt  x_train_raw_12_5.npy\r\n",
      "time_test_scaled_raw_12_5.npy\r\n"
     ]
    },
    {
     "data": {
      "text/plain": [
       "'/Users/aaronopp/Desktop/SymmetryLabs/SLStudio/AI_VJ/training_data/aaron_test/3_28'"
      ]
     },
     "execution_count": 24,
     "metadata": {},
     "output_type": "execute_result"
    }
   ],
   "source": [
    "%cd 3_28\n",
    "%ls\n",
    "%pwd"
   ]
  },
  {
   "cell_type": "code",
   "execution_count": 11,
   "metadata": {
    "collapsed": true
   },
   "outputs": [],
   "source": [
    "X_test_2_7 = np.load('/Users/aaronopp/Desktop/SymmetryLabs/SLStudio/AI_VJ/training_data/aaronopp/2_2/x_train_raw_14_37.npy')\n",
    "X_test_2_7_2 = np.load('/Users/aaronopp/Desktop/SymmetryLabs/SLStudio/AI_VJ/training_data/aaronopp/2_2/x_train_raw_13_26.npy')"
   ]
  },
  {
   "cell_type": "code",
   "execution_count": 15,
   "metadata": {
    "collapsed": true
   },
   "outputs": [],
   "source": [
    "X_test_3_6 = np.load(TRAINING_DATA_PATH + 'aaron_test/3_28/x_train_raw_12_5.npy')"
   ]
  },
  {
   "cell_type": "code",
   "execution_count": 37,
   "metadata": {
    "collapsed": false
   },
   "outputs": [
    {
     "data": {
      "text/plain": [
       "(33, 1, 96, 938)"
      ]
     },
     "execution_count": 37,
     "metadata": {},
     "output_type": "execute_result"
    }
   ],
   "source": [
    "X_test_2_7.shape"
   ]
  },
  {
   "cell_type": "code",
   "execution_count": 38,
   "metadata": {
    "collapsed": false
   },
   "outputs": [
    {
     "data": {
      "text/plain": [
       "(21, 1, 96, 938)"
      ]
     },
     "execution_count": 38,
     "metadata": {},
     "output_type": "execute_result"
    }
   ],
   "source": [
    "X_test_3_6.shape"
   ]
  },
  {
   "cell_type": "code",
   "execution_count": 58,
   "metadata": {
    "collapsed": false
   },
   "outputs": [
    {
     "data": {
      "text/plain": [
       "array([[[[-100., -100., -100., ..., -100., -100., -100.],\n",
       "         [-100., -100., -100., ..., -100., -100., -100.],\n",
       "         [-100., -100., -100., ..., -100., -100., -100.],\n",
       "         ..., \n",
       "         [-100., -100., -100., ..., -100., -100., -100.],\n",
       "         [-100., -100., -100., ..., -100., -100., -100.],\n",
       "         [-100., -100., -100., ..., -100., -100., -100.]]],\n",
       "\n",
       "\n",
       "       [[[-100., -100., -100., ..., -100., -100., -100.],\n",
       "         [-100., -100., -100., ..., -100., -100., -100.],\n",
       "         [-100., -100., -100., ..., -100., -100., -100.],\n",
       "         ..., \n",
       "         [-100., -100., -100., ..., -100., -100., -100.],\n",
       "         [-100., -100., -100., ..., -100., -100., -100.],\n",
       "         [-100., -100., -100., ..., -100., -100., -100.]]],\n",
       "\n",
       "\n",
       "       [[[-100., -100., -100., ..., -100., -100., -100.],\n",
       "         [-100., -100., -100., ..., -100., -100., -100.],\n",
       "         [-100., -100., -100., ..., -100., -100., -100.],\n",
       "         ..., \n",
       "         [-100., -100., -100., ..., -100., -100., -100.],\n",
       "         [-100., -100., -100., ..., -100., -100., -100.],\n",
       "         [-100., -100., -100., ..., -100., -100., -100.]]],\n",
       "\n",
       "\n",
       "       ..., \n",
       "       [[[-100., -100., -100., ..., -100., -100., -100.],\n",
       "         [-100., -100., -100., ..., -100., -100., -100.],\n",
       "         [-100., -100., -100., ..., -100., -100., -100.],\n",
       "         ..., \n",
       "         [-100., -100., -100., ..., -100., -100., -100.],\n",
       "         [-100., -100., -100., ..., -100., -100., -100.],\n",
       "         [-100., -100., -100., ..., -100., -100., -100.]]],\n",
       "\n",
       "\n",
       "       [[[-100., -100., -100., ..., -100., -100., -100.],\n",
       "         [-100., -100., -100., ..., -100., -100., -100.],\n",
       "         [-100., -100., -100., ..., -100., -100., -100.],\n",
       "         ..., \n",
       "         [-100., -100., -100., ..., -100., -100., -100.],\n",
       "         [-100., -100., -100., ..., -100., -100., -100.],\n",
       "         [-100., -100., -100., ..., -100., -100., -100.]]],\n",
       "\n",
       "\n",
       "       [[[-100., -100., -100., ..., -100., -100., -100.],\n",
       "         [-100., -100., -100., ..., -100., -100., -100.],\n",
       "         [-100., -100., -100., ..., -100., -100., -100.],\n",
       "         ..., \n",
       "         [-100., -100., -100., ..., -100., -100., -100.],\n",
       "         [-100., -100., -100., ..., -100., -100., -100.],\n",
       "         [-100., -100., -100., ..., -100., -100., -100.]]]])"
      ]
     },
     "execution_count": 58,
     "metadata": {},
     "output_type": "execute_result"
    }
   ],
   "source": [
    "X_test_2_7"
   ]
  },
  {
   "cell_type": "code",
   "execution_count": 16,
   "metadata": {
    "collapsed": false
   },
   "outputs": [
    {
     "data": {
      "text/plain": [
       "array([[[[-75.42039942, -75.42039942, -75.42039942, ..., -25.38849157,\n",
       "          -26.9045172 , -10.32668278],\n",
       "         [-75.42039942, -75.42039942, -75.42039942, ..., -24.57257242,\n",
       "          -32.21769394,  -9.09937285],\n",
       "         [-75.42039942, -75.42039942, -75.42039942, ...,  -5.70023973,\n",
       "           -4.29009399,  -2.07229619],\n",
       "         ..., \n",
       "         [-75.42039942, -75.42039942, -75.42039942, ..., -59.83688765,\n",
       "          -48.2293203 , -55.09807552],\n",
       "         [-75.42039942, -75.42039942, -75.42039942, ..., -57.70575838,\n",
       "          -52.27539831, -56.71591362],\n",
       "         [-75.42039942, -75.42039942, -75.42039942, ..., -64.54942004,\n",
       "          -60.26246387, -58.64780082]]],\n",
       "\n",
       "\n",
       "       [[[-75.39318847, -75.39318847, -75.39318847, ...,  -3.15952009,\n",
       "           -6.55243659,  -8.37427942],\n",
       "         [-75.39318847, -75.39318847, -75.39318847, ...,  -4.86916233,\n",
       "           -3.20341427,  -1.42474439],\n",
       "         [-75.39318847, -75.39318847, -75.39318847, ...,  -4.85402585,\n",
       "            1.60399024,  -1.10032156],\n",
       "         ..., \n",
       "         [-75.39318847, -75.39318847, -75.39318847, ..., -48.25072973,\n",
       "          -42.36736976, -40.73213953],\n",
       "         [-75.39318847, -75.39318847, -75.39318847, ..., -56.7402998 ,\n",
       "          -49.28062057, -50.15499511],\n",
       "         [-75.39318847, -75.39318847, -75.39318847, ..., -58.75449912,\n",
       "          -52.25505172, -54.531882  ]]],\n",
       "\n",
       "\n",
       "       [[[-43.57889929, -43.10629012, -33.19587884, ..., -22.89872033,\n",
       "          -21.531675  , -17.59320858],\n",
       "         [-30.36466856, -39.01796079, -29.94157882, ...,  -4.30098184,\n",
       "           -4.51668786,  -3.35875237],\n",
       "         [-26.86753591, -26.71218269, -22.5809301 , ...,  -3.12080877,\n",
       "           -1.83837929,  -3.54525682],\n",
       "         ..., \n",
       "         [-64.130864  , -71.30890419, -73.40225621, ..., -62.88727702,\n",
       "          -61.58903478, -59.92648951],\n",
       "         [-67.24673103, -75.42039942, -74.43339681, ..., -66.59464644,\n",
       "          -63.29925113, -58.88782644],\n",
       "         [-74.61046622, -75.42039942, -75.42039942, ..., -74.62639189,\n",
       "          -70.24424834, -60.62925463]]],\n",
       "\n",
       "\n",
       "       ..., \n",
       "       [[[-51.54044289,   1.76023652,   2.94634075, ..., -72.1271614 ,\n",
       "          -72.1271614 , -72.1271614 ],\n",
       "         [ -0.67332772,   1.96001372,   3.20256844, ..., -72.1271614 ,\n",
       "          -72.1271614 , -72.1271614 ],\n",
       "         [ -5.46576464, -11.1775221 ,  -8.6457541 , ..., -72.1271614 ,\n",
       "          -72.1271614 , -72.1271614 ],\n",
       "         ..., \n",
       "         [-45.43204085, -51.82780505, -53.05369124, ..., -72.1271614 ,\n",
       "          -72.1271614 , -72.1271614 ],\n",
       "         [-49.64847306, -56.73204677, -55.03611577, ..., -72.1271614 ,\n",
       "          -72.1271614 , -72.1271614 ],\n",
       "         [-53.37437686, -60.35655514, -61.6114905 , ..., -72.1271614 ,\n",
       "          -72.1271614 , -72.1271614 ]]],\n",
       "\n",
       "\n",
       "       [[[ -4.85284954,  -0.68520441,  -0.78547628, ..., -72.38796724,\n",
       "          -72.38796724, -72.38796724],\n",
       "         [ -4.54723948,  -1.34193252,  -2.51894947, ..., -72.38796724,\n",
       "          -72.38796724, -72.38796724],\n",
       "         [ -2.21167536, -15.67315491, -20.55763387, ..., -72.38796724,\n",
       "          -72.38796724, -72.38796724],\n",
       "         ..., \n",
       "         [-32.34891307, -35.66075675, -37.99231068, ..., -72.38796724,\n",
       "          -72.38796724, -72.38796724],\n",
       "         [-37.22382362, -40.36206627, -42.16551353, ..., -72.38796724,\n",
       "          -72.38796724, -72.38796724],\n",
       "         [-42.88382288, -53.64177615, -47.09412727, ..., -72.38796724,\n",
       "          -72.38796724, -72.38796724]]],\n",
       "\n",
       "\n",
       "       [[[ -0.58174672,  -1.46925045,  -0.68332803, ..., -18.65806636,\n",
       "          -20.70420589, -21.73248659],\n",
       "         [ -7.66680081,  -7.97994863,  -0.5320784 , ..., -18.27676626,\n",
       "          -20.58589911, -25.36053383],\n",
       "         [  2.52334477,  -0.30107427,   0.3766647 , ..., -26.31846701,\n",
       "          -34.24224652, -24.4789927 ],\n",
       "         ..., \n",
       "         [-40.73693939, -45.94836808, -50.33426641, ..., -70.8775781 ,\n",
       "          -70.8775781 , -70.8775781 ],\n",
       "         [-47.48739019, -44.98397536, -58.13086204, ..., -70.8775781 ,\n",
       "          -70.8775781 , -70.8775781 ],\n",
       "         [-50.2754809 , -51.73148474, -59.66530965, ..., -70.8775781 ,\n",
       "          -70.8775781 , -70.8775781 ]]]])"
      ]
     },
     "execution_count": 16,
     "metadata": {},
     "output_type": "execute_result"
    }
   ],
   "source": [
    "X_test_3_6"
   ]
  },
  {
   "cell_type": "code",
   "execution_count": 19,
   "metadata": {
    "collapsed": false
   },
   "outputs": [
    {
     "data": {
      "text/plain": [
       "array([[[-24.54279771, -22.27110123, -24.65715374, ..., -15.21988993,\n",
       "         -15.14935913, -15.99845973],\n",
       "        [-10.46248696, -10.14248315, -10.69857107, ..., -10.90318379,\n",
       "         -10.61214501, -11.01277526],\n",
       "        [ -9.69846653, -11.05639407, -10.11547591, ..., -11.7998276 ,\n",
       "         -10.37465681,  -8.98439641],\n",
       "        ..., \n",
       "        [-59.60804586, -65.35120583, -61.90446099, ..., -50.93240778,\n",
       "         -48.70150722, -58.15531141],\n",
       "        [-63.05692323, -63.57081484, -67.13552674, ..., -59.22721776,\n",
       "         -59.33560134, -58.21658529],\n",
       "        [-69.28882028, -70.754038  , -71.74159488, ..., -67.55567217,\n",
       "         -66.01885621, -65.38959933]]])"
      ]
     },
     "execution_count": 19,
     "metadata": {},
     "output_type": "execute_result"
    }
   ],
   "source": [
    "X_test_2_7_2[8]"
   ]
  },
  {
   "cell_type": "code",
   "execution_count": 20,
   "metadata": {
    "collapsed": false
   },
   "outputs": [
    {
     "data": {
      "text/plain": [
       "array([[[-25.2597602 , -12.40139435,  -6.26085025, ...,  -3.20881777,\n",
       "          -4.97709118,  -3.7991964 ],\n",
       "        [ -3.9453714 ,  -5.18372374,   0.99227724, ...,  -5.19928083,\n",
       "         -12.66235949,  -5.76759912],\n",
       "        [ -3.66390231,  -4.1991667 ,  -2.60069296, ..., -13.4182018 ,\n",
       "         -16.17427178, -14.07109729],\n",
       "        ..., \n",
       "        [-74.05700375, -74.5969288 , -75.35907811, ..., -75.35907811,\n",
       "         -75.35907811, -75.35907811],\n",
       "        [-75.35907811, -75.35907811, -75.35907811, ..., -75.35907811,\n",
       "         -75.35907811, -75.35907811],\n",
       "        [-75.35907811, -75.35907811, -75.35907811, ..., -75.35907811,\n",
       "         -75.35907811, -75.35907811]]])"
      ]
     },
     "execution_count": 20,
     "metadata": {},
     "output_type": "execute_result"
    }
   ],
   "source": [
    "X_test_3_6[7]"
   ]
  },
  {
   "cell_type": "code",
   "execution_count": 44,
   "metadata": {
    "collapsed": false
   },
   "outputs": [
    {
     "data": {
      "text/plain": [
       "'/Users/aaronopp/Desktop/SymmetryLabs/SLStudio/AI_VJ/training_data/aaron_test/3_28'"
      ]
     },
     "execution_count": 44,
     "metadata": {},
     "output_type": "execute_result"
    }
   ],
   "source": [
    "######################################################################\n",
    "#                      GET data FROM LOGGER\n",
    "######################################################################\n",
    "\n",
    "\n",
    "#data_file = \"/Users/aaronopp/Desktop/logger/data/out.txt\"\n",
    "TRAINING_DATA_PATH = '/Users/aaronopp/Desktop/SymmetryLabs/winter_sun/SLStudio/AI_VJ/training_data/aaronopp/1_11/'\n",
    "data_file =  TRAINING_DATA_PATH + 'logger_training_output_raw_17_21.txt'\n",
    "%pwd"
   ]
  },
  {
   "cell_type": "code",
   "execution_count": 4,
   "metadata": {
    "collapsed": true
   },
   "outputs": [],
   "source": [
    "TRAINING_DATA_PATH = '/Users/aaronopp/Desktop/AI_VJ_2to3/py2/x_train_raw_16_31.npy'"
   ]
  },
  {
   "cell_type": "code",
   "execution_count": 5,
   "metadata": {
    "collapsed": true
   },
   "outputs": [],
   "source": [
    "x_test_py2 = np.load('/Users/aaronopp/Desktop/AI_VJ_2to3/py2/x_train_raw_16_31.npy')\n",
    "x_test_py3 = np.load('/Users/aaronopp/Desktop/AI_VJ_2to3/py3/x_train_raw_16_23.npy')\n",
    "\n",
    "\n"
   ]
  },
  {
   "cell_type": "code",
   "execution_count": 45,
   "metadata": {
    "collapsed": false
   },
   "outputs": [
    {
     "ename": "FileNotFoundError",
     "evalue": "[Errno 2] No such file or directory: '/Users/aaronopp/Desktop/SymmetryLabs/winter_sun/SLStudio/AI_VJ/training_data/aaronopp/1_11/x_train_raw_17_21.npy'",
     "output_type": "error",
     "traceback": [
      "\u001b[0;31m---------------------------------------------------------------------------\u001b[0m",
      "\u001b[0;31mFileNotFoundError\u001b[0m                         Traceback (most recent call last)",
      "\u001b[0;32m<ipython-input-45-6adcf216f1b3>\u001b[0m in \u001b[0;36m<module>\u001b[0;34m()\u001b[0m\n\u001b[0;32m----> 1\u001b[0;31m \u001b[0mX_test\u001b[0m \u001b[0;34m=\u001b[0m \u001b[0mnp\u001b[0m\u001b[0;34m.\u001b[0m\u001b[0mload\u001b[0m\u001b[0;34m(\u001b[0m\u001b[0mTRAINING_DATA_PATH\u001b[0m \u001b[0;34m+\u001b[0m \u001b[0;34m'x_train_raw_17_21.npy'\u001b[0m\u001b[0;34m)\u001b[0m\u001b[0;34m\u001b[0m\u001b[0m\n\u001b[0m\u001b[1;32m      2\u001b[0m \u001b[0mtime_test_scaled\u001b[0m \u001b[0;34m=\u001b[0m \u001b[0mnp\u001b[0m\u001b[0;34m.\u001b[0m\u001b[0mload\u001b[0m\u001b[0;34m(\u001b[0m\u001b[0mTRAINING_DATA_PATH\u001b[0m \u001b[0;34m+\u001b[0m \u001b[0;34m'time_test_scaled_raw_17_21.npy'\u001b[0m\u001b[0;34m)\u001b[0m\u001b[0;34m\u001b[0m\u001b[0m\n\u001b[1;32m      3\u001b[0m \u001b[0;34m\u001b[0m\u001b[0m\n",
      "\u001b[0;32m~/anaconda/envs/py36/lib/python3.6/site-packages/numpy/lib/npyio.py\u001b[0m in \u001b[0;36mload\u001b[0;34m(file, mmap_mode, allow_pickle, fix_imports, encoding)\u001b[0m\n\u001b[1;32m    368\u001b[0m     \u001b[0mown_fid\u001b[0m \u001b[0;34m=\u001b[0m \u001b[0;32mFalse\u001b[0m\u001b[0;34m\u001b[0m\u001b[0m\n\u001b[1;32m    369\u001b[0m     \u001b[0;32mif\u001b[0m \u001b[0misinstance\u001b[0m\u001b[0;34m(\u001b[0m\u001b[0mfile\u001b[0m\u001b[0;34m,\u001b[0m \u001b[0mbasestring\u001b[0m\u001b[0;34m)\u001b[0m\u001b[0;34m:\u001b[0m\u001b[0;34m\u001b[0m\u001b[0m\n\u001b[0;32m--> 370\u001b[0;31m         \u001b[0mfid\u001b[0m \u001b[0;34m=\u001b[0m \u001b[0mopen\u001b[0m\u001b[0;34m(\u001b[0m\u001b[0mfile\u001b[0m\u001b[0;34m,\u001b[0m \u001b[0;34m\"rb\"\u001b[0m\u001b[0;34m)\u001b[0m\u001b[0;34m\u001b[0m\u001b[0m\n\u001b[0m\u001b[1;32m    371\u001b[0m         \u001b[0mown_fid\u001b[0m \u001b[0;34m=\u001b[0m \u001b[0;32mTrue\u001b[0m\u001b[0;34m\u001b[0m\u001b[0m\n\u001b[1;32m    372\u001b[0m     \u001b[0;32melif\u001b[0m \u001b[0mis_pathlib_path\u001b[0m\u001b[0;34m(\u001b[0m\u001b[0mfile\u001b[0m\u001b[0;34m)\u001b[0m\u001b[0;34m:\u001b[0m\u001b[0;34m\u001b[0m\u001b[0m\n",
      "\u001b[0;31mFileNotFoundError\u001b[0m: [Errno 2] No such file or directory: '/Users/aaronopp/Desktop/SymmetryLabs/winter_sun/SLStudio/AI_VJ/training_data/aaronopp/1_11/x_train_raw_17_21.npy'"
     ]
    }
   ],
   "source": [
    "X_test = np.load(TRAINING_DATA_PATH + 'x_train_raw_17_21.npy')\n",
    "time_test_scaled = np.load(TRAINING_DATA_PATH + 'time_test_scaled_raw_17_21.npy')\n",
    "\n"
   ]
  },
  {
   "cell_type": "code",
   "execution_count": 48,
   "metadata": {
    "collapsed": false
   },
   "outputs": [
    {
     "ename": "FileNotFoundError",
     "evalue": "[Errno 2] No such file or directory: '/Users/aaronopp/Desktop/AI_VJ/training_data/1_9/x_train_raw_19_7.npy'",
     "output_type": "error",
     "traceback": [
      "\u001b[0;31m---------------------------------------------------------------------------\u001b[0m",
      "\u001b[0;31mFileNotFoundError\u001b[0m                         Traceback (most recent call last)",
      "\u001b[0;32m<ipython-input-48-40e8ccb2dcbe>\u001b[0m in \u001b[0;36m<module>\u001b[0;34m()\u001b[0m\n\u001b[0;32m----> 1\u001b[0;31m \u001b[0mx_1\u001b[0m \u001b[0;34m=\u001b[0m \u001b[0mnp\u001b[0m\u001b[0;34m.\u001b[0m\u001b[0mload\u001b[0m\u001b[0;34m(\u001b[0m\u001b[0;34m'/Users/aaronopp/Desktop/AI_VJ/training_data/1_9/x_train_raw_19_7.npy'\u001b[0m\u001b[0;34m)\u001b[0m\u001b[0;34m\u001b[0m\u001b[0m\n\u001b[0m",
      "\u001b[0;32m~/anaconda/envs/py36/lib/python3.6/site-packages/numpy/lib/npyio.py\u001b[0m in \u001b[0;36mload\u001b[0;34m(file, mmap_mode, allow_pickle, fix_imports, encoding)\u001b[0m\n\u001b[1;32m    368\u001b[0m     \u001b[0mown_fid\u001b[0m \u001b[0;34m=\u001b[0m \u001b[0;32mFalse\u001b[0m\u001b[0;34m\u001b[0m\u001b[0m\n\u001b[1;32m    369\u001b[0m     \u001b[0;32mif\u001b[0m \u001b[0misinstance\u001b[0m\u001b[0;34m(\u001b[0m\u001b[0mfile\u001b[0m\u001b[0;34m,\u001b[0m \u001b[0mbasestring\u001b[0m\u001b[0;34m)\u001b[0m\u001b[0;34m:\u001b[0m\u001b[0;34m\u001b[0m\u001b[0m\n\u001b[0;32m--> 370\u001b[0;31m         \u001b[0mfid\u001b[0m \u001b[0;34m=\u001b[0m \u001b[0mopen\u001b[0m\u001b[0;34m(\u001b[0m\u001b[0mfile\u001b[0m\u001b[0;34m,\u001b[0m \u001b[0;34m\"rb\"\u001b[0m\u001b[0;34m)\u001b[0m\u001b[0;34m\u001b[0m\u001b[0m\n\u001b[0m\u001b[1;32m    371\u001b[0m         \u001b[0mown_fid\u001b[0m \u001b[0;34m=\u001b[0m \u001b[0;32mTrue\u001b[0m\u001b[0;34m\u001b[0m\u001b[0m\n\u001b[1;32m    372\u001b[0m     \u001b[0;32melif\u001b[0m \u001b[0mis_pathlib_path\u001b[0m\u001b[0;34m(\u001b[0m\u001b[0mfile\u001b[0m\u001b[0;34m)\u001b[0m\u001b[0;34m:\u001b[0m\u001b[0;34m\u001b[0m\u001b[0m\n",
      "\u001b[0;31mFileNotFoundError\u001b[0m: [Errno 2] No such file or directory: '/Users/aaronopp/Desktop/AI_VJ/training_data/1_9/x_train_raw_19_7.npy'"
     ]
    }
   ],
   "source": [
    "x_1 = np.load('/Users/aaronopp/Desktop/AI_VJ/training_data/1_9/x_train_raw_19_7.npy')"
   ]
  },
  {
   "cell_type": "code",
   "execution_count": 25,
   "metadata": {
    "collapsed": false
   },
   "outputs": [
    {
     "data": {
      "text/plain": [
       "array([[-33.91684092, -42.31735014, -42.78375883, -39.31186533,\n",
       "        -37.35366963, -33.87101908, -27.19040918, -25.37650783,\n",
       "        -27.64165183, -31.27300271, -28.56400819, -27.82580786,\n",
       "        -28.59638275, -29.03036428, -32.76541579, -35.07095868,\n",
       "        -28.66721562, -26.28641317, -31.08466897, -34.12852261,\n",
       "        -35.79649133, -39.4105006 , -38.03346607, -38.0905592 ,\n",
       "        -42.63487012, -40.41532357, -38.05510217, -37.99715984,\n",
       "        -40.73249698, -45.10057139, -46.2458873 , -46.030269  ,\n",
       "        -50.52663494, -52.73873361, -47.04475001, -45.93743687,\n",
       "        -52.89394434, -53.62224759, -49.28255665, -48.67223477,\n",
       "        -49.90805921, -51.75647011, -57.80235685, -54.69817854,\n",
       "        -52.80772531, -55.34569262, -57.14647729, -55.55663344,\n",
       "        -56.34538084, -58.56140406, -57.43299042, -57.63721336,\n",
       "        -58.59511432, -58.94677436, -64.24839458, -66.50670691,\n",
       "        -57.52502546, -59.25424588, -69.97770756, -70.19879169,\n",
       "        -66.25259746, -66.01221785, -65.62331715, -71.57050047,\n",
       "        -72.40806691, -71.13141422, -70.90515257, -74.95408195,\n",
       "        -77.89904561, -75.10548487, -74.89180617, -74.26832923,\n",
       "        -76.13924014, -78.26367566, -78.26820131, -77.9091716 ,\n",
       "        -80.08944824, -80.1861213 , -78.37433998, -78.54677599,\n",
       "        -80.83296819, -81.0840896 , -81.12456322, -80.69013175,\n",
       "        -79.79681228, -80.59814515, -81.3269338 , -81.27945253,\n",
       "        -80.95267173, -80.76766783, -80.95857113, -81.39707779,\n",
       "        -81.28167818, -81.33833205, -81.34665489, -81.39820583]])"
      ]
     },
     "execution_count": 25,
     "metadata": {},
     "output_type": "execute_result"
    }
   ],
   "source": [
    "x_test_py2[0].mean(axis=2)"
   ]
  },
  {
   "cell_type": "code",
   "execution_count": 18,
   "metadata": {
    "collapsed": false
   },
   "outputs": [
    {
     "name": "stdout",
     "output_type": "stream",
     "text": [
      "python 2 mean: -57.1618891377\n",
      "max: -1.41543763123\n",
      "min: -81.4154376312\n",
      "std: 20.5846946683\n",
      "var: 423.729654586\n",
      "python 3 mean: -57.2274499807\n",
      "max: -1.38757582455\n",
      "min: -81.3875758245\n",
      "std: 20.5833089562\n",
      "var: 423.672607586\n",
      "python 2 mean: -55.6374131266\n",
      "max: -3.10673349066\n",
      "min: -83.1067334907\n",
      "std: 21.4996163896\n",
      "var: 462.233504899\n",
      "python 3 mean: -55.5278668733\n",
      "max: -1.46913914623\n",
      "min: -81.4691391462\n",
      "std: 20.96292939\n",
      "var: 439.444408611\n",
      "python 2 mean: -51.1587414718\n",
      "max: 2.18599636746\n",
      "min: -77.8140036325\n",
      "std: 20.562962413\n",
      "var: 422.835423198\n",
      "python 3 mean: -53.0326997163\n",
      "max: -1.62767637791\n",
      "min: -81.6276763779\n",
      "std: 21.5764134306\n",
      "var: 465.54161653\n",
      "python 2 mean: -46.393920441\n",
      "max: 2.75654850671\n",
      "min: -77.2434514933\n",
      "std: 20.0483407872\n",
      "var: 401.935968321\n",
      "python 3 mean: -46.5690621999\n",
      "max: 3.29287845756\n",
      "min: -76.7071215424\n",
      "std: 20.0498521665\n",
      "var: 401.996571898\n",
      "python 2 mean: -48.9456518571\n",
      "max: 3.29421210146\n",
      "min: -76.7057878985\n",
      "std: 20.0967850201\n",
      "var: 403.880768144\n",
      "python 3 mean: -48.458780048\n",
      "max: 2.55079091095\n",
      "min: -77.449209089\n",
      "std: 20.2160870371\n",
      "var: 408.69017509\n",
      "python 2 mean: -51.8295619102\n",
      "max: 2.75654850671\n",
      "min: -77.2434514933\n",
      "std: 19.9793100159\n",
      "var: 399.172828711\n",
      "python 3 mean: -51.0670950479\n",
      "max: 3.29287845756\n",
      "min: -76.7071215424\n",
      "std: 19.9950070335\n",
      "var: 399.80030627\n",
      "python 2 mean: -57.8954147052\n",
      "max: -1.8324578723\n",
      "min: -81.8324578723\n",
      "std: 20.4694726706\n",
      "var: 418.999311414\n",
      "python 3 mean: -57.5764351369\n",
      "max: -2.20186470698\n",
      "min: -82.201864707\n",
      "std: 20.5266937181\n",
      "var: 421.345154997\n",
      "python 2 mean: -56.8927536204\n",
      "max: -2.12332635673\n",
      "min: -82.1233263567\n",
      "std: 21.1380273947\n",
      "var: 446.816202141\n",
      "python 3 mean: -56.9916113068\n",
      "max: -1.78349152708\n",
      "min: -81.7834915271\n",
      "std: 20.9976945187\n",
      "var: 440.9031751\n"
     ]
    }
   ],
   "source": [
    "for i in range(0, 8):\n",
    "    \n",
    "    print('python 2 mean:' , x_test_py2[i].mean())\n",
    "    print('max:' , x_test_py2[i].max())\n",
    "    print('min:' , x_test_py2[i].min())\n",
    "    print('std:', x_test_py2[i].std())\n",
    "    print('var:', x_test_py2[i].var())\n",
    "    print('python 3 mean:', x_test_py3[i].mean())\n",
    "    print('max:' , x_test_py3[i].max())\n",
    "    print('min:' , x_test_py3[i].min())\n",
    "    print('std:', x_test_py3[i].std())\n",
    "    print('var:', x_test_py3[i].var())"
   ]
  },
  {
   "cell_type": "code",
   "execution_count": 5,
   "metadata": {
    "collapsed": true
   },
   "outputs": [],
   "source": [
    "x_full = np.load('/Users/aaronopp/Desktop/SymmetryLabs/ML_model/training_data/X_train_full.npy')"
   ]
  },
  {
   "cell_type": "code",
   "execution_count": 53,
   "metadata": {
    "collapsed": false
   },
   "outputs": [
    {
     "data": {
      "text/plain": [
       "array([[[[-100., -100., -100., ..., -100., -100., -100.],\n",
       "         [-100., -100., -100., ..., -100., -100., -100.],\n",
       "         [-100., -100., -100., ..., -100., -100., -100.],\n",
       "         ..., \n",
       "         [-100., -100., -100., ..., -100., -100., -100.],\n",
       "         [-100., -100., -100., ..., -100., -100., -100.],\n",
       "         [-100., -100., -100., ..., -100., -100., -100.]]],\n",
       "\n",
       "\n",
       "       [[[-100., -100., -100., ..., -100., -100., -100.],\n",
       "         [-100., -100., -100., ..., -100., -100., -100.],\n",
       "         [-100., -100., -100., ..., -100., -100., -100.],\n",
       "         ..., \n",
       "         [-100., -100., -100., ..., -100., -100., -100.],\n",
       "         [-100., -100., -100., ..., -100., -100., -100.],\n",
       "         [-100., -100., -100., ..., -100., -100., -100.]]],\n",
       "\n",
       "\n",
       "       [[[-100., -100., -100., ..., -100., -100., -100.],\n",
       "         [-100., -100., -100., ..., -100., -100., -100.],\n",
       "         [-100., -100., -100., ..., -100., -100., -100.],\n",
       "         ..., \n",
       "         [-100., -100., -100., ..., -100., -100., -100.],\n",
       "         [-100., -100., -100., ..., -100., -100., -100.],\n",
       "         [-100., -100., -100., ..., -100., -100., -100.]]],\n",
       "\n",
       "\n",
       "       ..., \n",
       "       [[[-100., -100., -100., ..., -100., -100., -100.],\n",
       "         [-100., -100., -100., ..., -100., -100., -100.],\n",
       "         [-100., -100., -100., ..., -100., -100., -100.],\n",
       "         ..., \n",
       "         [-100., -100., -100., ..., -100., -100., -100.],\n",
       "         [-100., -100., -100., ..., -100., -100., -100.],\n",
       "         [-100., -100., -100., ..., -100., -100., -100.]]],\n",
       "\n",
       "\n",
       "       [[[-100., -100., -100., ..., -100., -100., -100.],\n",
       "         [-100., -100., -100., ..., -100., -100., -100.],\n",
       "         [-100., -100., -100., ..., -100., -100., -100.],\n",
       "         ..., \n",
       "         [-100., -100., -100., ..., -100., -100., -100.],\n",
       "         [-100., -100., -100., ..., -100., -100., -100.],\n",
       "         [-100., -100., -100., ..., -100., -100., -100.]]],\n",
       "\n",
       "\n",
       "       [[[-100., -100., -100., ..., -100., -100., -100.],\n",
       "         [-100., -100., -100., ..., -100., -100., -100.],\n",
       "         [-100., -100., -100., ..., -100., -100., -100.],\n",
       "         ..., \n",
       "         [-100., -100., -100., ..., -100., -100., -100.],\n",
       "         [-100., -100., -100., ..., -100., -100., -100.],\n",
       "         [-100., -100., -100., ..., -100., -100., -100.]]]])"
      ]
     },
     "execution_count": 53,
     "metadata": {},
     "output_type": "execute_result"
    }
   ],
   "source": [
    "x_1"
   ]
  },
  {
   "cell_type": "code",
   "execution_count": 69,
   "metadata": {
    "collapsed": true
   },
   "outputs": [],
   "source": [
    "def graph_MS(data, line):\n",
    "    if data.ndim == 4:\n",
    "        S = data[line].reshape(data[line].shape[1:])\n",
    "    if data.ndim == 3:\n",
    "        S = data[line].reshape(data[line].shape[0:])\n",
    "    else:\n",
    "        S = data\n",
    "    print(S.shape)\n",
    "    print(S)\n",
    "    plt.figure(figsize=(10, 4))\n",
    "    librosa.display.specshow(librosa.power_to_db(S,\n",
    "                                              ref=np.max),\n",
    "                       sr=16000, hop_length=256,  y_axis='mel', fmax=8000,\n",
    "                          x_axis='time')\n",
    "    plt.colorbar(format='%+2.0f dB')\n",
    "    plt.title('Mel spectrogram')\n",
    "    plt.tight_layout()\n",
    "def graph_MS_test(data, line):\n",
    "    if data.ndim == 4:\n",
    "        S = data[line].reshape(data[line].shape[1:])\n",
    "    if data.ndim == 3:\n",
    "        S = data[line].reshape(data[line].shape[0:])\n",
    "    else:\n",
    "        S = data\n",
    "    print(S.shape)\n",
    "    print(S)\n",
    "    plt.figure(figsize=(10, 4))\n",
    "    librosa.display.specshow(librosa.power_to_db(S,\n",
    "                                              ref=np.max),\n",
    "                       sr=16000, hop_length=256,  y_axis='mel', fmax=8000,\n",
    "                          x_axis='time')\n",
    "    plt.colorbar(format='%+2.0f dB')\n",
    "    plt.title('Mel spectrogram')\n",
    "    plt.tight_layout()\n",
    "    return S"
   ]
  },
  {
   "cell_type": "code",
   "execution_count": 86,
   "metadata": {
    "collapsed": true
   },
   "outputs": [],
   "source": [
    "s1 = librosa.power_to_db(S**2, ref=np.max)"
   ]
  },
  {
   "cell_type": "code",
   "execution_count": 31,
   "metadata": {
    "collapsed": true
   },
   "outputs": [],
   "source": [
    "t1 = np.zeros((1, 1, 96, 938))"
   ]
  },
  {
   "cell_type": "code",
   "execution_count": 33,
   "metadata": {
    "collapsed": true
   },
   "outputs": [],
   "source": [
    "t1[0, :] = x_full[0]"
   ]
  },
  {
   "cell_type": "code",
   "execution_count": 35,
   "metadata": {
    "collapsed": false
   },
   "outputs": [
    {
     "data": {
      "text/plain": [
       "(1, 1, 96, 938)"
      ]
     },
     "execution_count": 35,
     "metadata": {},
     "output_type": "execute_result"
    }
   ],
   "source": [
    "t1.shape"
   ]
  },
  {
   "cell_type": "code",
   "execution_count": 27,
   "metadata": {
    "collapsed": false
   },
   "outputs": [
    {
     "name": "stdout",
     "output_type": "stream",
     "text": [
      "Help on function reshape in module numpy.core.fromnumeric:\n",
      "\n",
      "reshape(a, newshape, order='C')\n",
      "    Gives a new shape to an array without changing its data.\n",
      "    \n",
      "    Parameters\n",
      "    ----------\n",
      "    a : array_like\n",
      "        Array to be reshaped.\n",
      "    newshape : int or tuple of ints\n",
      "        The new shape should be compatible with the original shape. If\n",
      "        an integer, then the result will be a 1-D array of that length.\n",
      "        One shape dimension can be -1. In this case, the value is\n",
      "        inferred from the length of the array and remaining dimensions.\n",
      "    order : {'C', 'F', 'A'}, optional\n",
      "        Read the elements of `a` using this index order, and place the\n",
      "        elements into the reshaped array using this index order.  'C'\n",
      "        means to read / write the elements using C-like index order,\n",
      "        with the last axis index changing fastest, back to the first\n",
      "        axis index changing slowest. 'F' means to read / write the\n",
      "        elements using Fortran-like index order, with the first index\n",
      "        changing fastest, and the last index changing slowest. Note that\n",
      "        the 'C' and 'F' options take no account of the memory layout of\n",
      "        the underlying array, and only refer to the order of indexing.\n",
      "        'A' means to read / write the elements in Fortran-like index\n",
      "        order if `a` is Fortran *contiguous* in memory, C-like order\n",
      "        otherwise.\n",
      "    \n",
      "    Returns\n",
      "    -------\n",
      "    reshaped_array : ndarray\n",
      "        This will be a new view object if possible; otherwise, it will\n",
      "        be a copy.  Note there is no guarantee of the *memory layout* (C- or\n",
      "        Fortran- contiguous) of the returned array.\n",
      "    \n",
      "    See Also\n",
      "    --------\n",
      "    ndarray.reshape : Equivalent method.\n",
      "    \n",
      "    Notes\n",
      "    -----\n",
      "    It is not always possible to change the shape of an array without\n",
      "    copying the data. If you want an error to be raise if the data is copied,\n",
      "    you should assign the new shape to the shape attribute of the array::\n",
      "    \n",
      "     >>> a = np.zeros((10, 2))\n",
      "     # A transpose make the array non-contiguous\n",
      "     >>> b = a.T\n",
      "     # Taking a view makes it possible to modify the shape without modifying\n",
      "     # the initial object.\n",
      "     >>> c = b.view()\n",
      "     >>> c.shape = (20)\n",
      "     AttributeError: incompatible shape for a non-contiguous array\n",
      "    \n",
      "    The `order` keyword gives the index ordering both for *fetching* the values\n",
      "    from `a`, and then *placing* the values into the output array.\n",
      "    For example, let's say you have an array:\n",
      "    \n",
      "    >>> a = np.arange(6).reshape((3, 2))\n",
      "    >>> a\n",
      "    array([[0, 1],\n",
      "           [2, 3],\n",
      "           [4, 5]])\n",
      "    \n",
      "    You can think of reshaping as first raveling the array (using the given\n",
      "    index order), then inserting the elements from the raveled array into the\n",
      "    new array using the same kind of index ordering as was used for the\n",
      "    raveling.\n",
      "    \n",
      "    >>> np.reshape(a, (2, 3)) # C-like index ordering\n",
      "    array([[0, 1, 2],\n",
      "           [3, 4, 5]])\n",
      "    >>> np.reshape(np.ravel(a), (2, 3)) # equivalent to C ravel then C reshape\n",
      "    array([[0, 1, 2],\n",
      "           [3, 4, 5]])\n",
      "    >>> np.reshape(a, (2, 3), order='F') # Fortran-like index ordering\n",
      "    array([[0, 4, 3],\n",
      "           [2, 1, 5]])\n",
      "    >>> np.reshape(np.ravel(a, order='F'), (2, 3), order='F')\n",
      "    array([[0, 4, 3],\n",
      "           [2, 1, 5]])\n",
      "    \n",
      "    Examples\n",
      "    --------\n",
      "    >>> a = np.array([[1,2,3], [4,5,6]])\n",
      "    >>> np.reshape(a, 6)\n",
      "    array([1, 2, 3, 4, 5, 6])\n",
      "    >>> np.reshape(a, 6, order='F')\n",
      "    array([1, 4, 2, 5, 3, 6])\n",
      "    \n",
      "    >>> np.reshape(a, (3,-1))       # the unspecified value is inferred to be 2\n",
      "    array([[1, 2],\n",
      "           [3, 4],\n",
      "           [5, 6]])\n",
      "\n"
     ]
    }
   ],
   "source": [
    "help(np.reshape)"
   ]
  },
  {
   "cell_type": "code",
   "execution_count": 22,
   "metadata": {
    "collapsed": false
   },
   "outputs": [
    {
     "name": "stdout",
     "output_type": "stream",
     "text": [
      "('ALL THE SHAPES', array([1765,    1,   96,  938]), array([1765,    1,   96,  938]), 24)\n"
     ]
    }
   ],
   "source": [
    "# load in model to check predictions.. .. . .\n",
    "X_train_shape = np.array((1765, 1, 96, 938))\n",
    "Y_pattern_train_shape = np.array((1765, 1, 96, 938))\n",
    "Y_pattern_classes = 24\n",
    "\n",
    "model_pattern = build_model_linear_end_pattern(X_train_shape, Y_pattern_train_shape, nb_classes = Y_pattern_classes)\n"
   ]
  },
  {
   "cell_type": "code",
   "execution_count": 53,
   "metadata": {
    "collapsed": false
   },
   "outputs": [
    {
     "name": "stdout",
     "output_type": "stream",
     "text": [
      "range number:0\n",
      "pattern predict shape! (1, 23)\n",
      "max data pos:  1\n",
      "max data pos:  5\n",
      "max data pos:  12\n",
      "max data pos:  0\n",
      "max data pos:  0\n",
      "speed:  medium\n",
      "color:  blue\n",
      "pattern:  Rings\n",
      "blur:  None\n",
      "desat:  None\n",
      "PATTERN MAX READING:  0.717677\n",
      "range number:1\n",
      "pattern predict shape! (1, 23)\n",
      "max data pos:  1\n",
      "max data pos:  7\n",
      "max data pos:  13\n",
      "max data pos:  0\n",
      "max data pos:  0\n",
      "speed:  medium\n",
      "color:  magenta\n",
      "pattern:  ShiftingPlane\n",
      "blur:  None\n",
      "desat:  None\n",
      "PATTERN MAX READING:  0.777754\n",
      "range number:2\n",
      "pattern predict shape! (1, 23)\n",
      "max data pos:  1\n",
      "max data pos:  7\n",
      "max data pos:  13\n",
      "max data pos:  0\n",
      "max data pos:  0\n",
      "speed:  medium\n",
      "color:  magenta\n",
      "pattern:  ShiftingPlane\n",
      "blur:  None\n",
      "desat:  None\n",
      "PATTERN MAX READING:  0.903745\n",
      "range number:3\n",
      "pattern predict shape! (1, 23)\n",
      "max data pos:  1\n",
      "max data pos:  7\n",
      "max data pos:  13\n",
      "max data pos:  0\n",
      "max data pos:  0\n",
      "speed:  medium\n",
      "color:  magenta\n",
      "pattern:  ShiftingPlane\n",
      "blur:  None\n",
      "desat:  None\n",
      "PATTERN MAX READING:  0.875195\n",
      "range number:4\n",
      "pattern predict shape! (1, 23)\n",
      "max data pos:  1\n",
      "max data pos:  7\n",
      "max data pos:  13\n",
      "max data pos:  2\n",
      "max data pos:  0\n",
      "speed:  medium\n",
      "color:  magenta\n",
      "pattern:  ShiftingPlane\n",
      "blur:  medium\n",
      "desat:  None\n",
      "PATTERN MAX READING:  0.732833\n",
      "range number:5\n",
      "pattern predict shape! (1, 23)\n",
      "max data pos:  1\n",
      "max data pos:  7\n",
      "max data pos:  13\n",
      "max data pos:  0\n",
      "max data pos:  0\n",
      "speed:  medium\n",
      "color:  magenta\n",
      "pattern:  ShiftingPlane\n",
      "blur:  None\n",
      "desat:  None\n",
      "PATTERN MAX READING:  0.951458\n",
      "range number:6\n",
      "pattern predict shape! (1, 23)\n",
      "max data pos:  1\n",
      "max data pos:  7\n",
      "max data pos:  13\n",
      "max data pos:  0\n",
      "max data pos:  0\n",
      "speed:  medium\n",
      "color:  magenta\n",
      "pattern:  ShiftingPlane\n",
      "blur:  None\n",
      "desat:  None\n",
      "PATTERN MAX READING:  0.966632\n",
      "range number:7\n",
      "pattern predict shape! (1, 23)\n",
      "max data pos:  1\n",
      "max data pos:  7\n",
      "max data pos:  13\n",
      "max data pos:  0\n",
      "max data pos:  0\n",
      "speed:  medium\n",
      "color:  magenta\n",
      "pattern:  ShiftingPlane\n",
      "blur:  None\n",
      "desat:  None\n",
      "PATTERN MAX READING:  0.926359\n",
      "range number:8\n",
      "pattern predict shape! (1, 23)\n",
      "max data pos:  1\n",
      "max data pos:  7\n",
      "max data pos:  13\n",
      "max data pos:  0\n",
      "max data pos:  0\n",
      "speed:  medium\n",
      "color:  magenta\n",
      "pattern:  ShiftingPlane\n",
      "blur:  None\n",
      "desat:  None\n",
      "PATTERN MAX READING:  0.324583\n",
      "range number:9\n",
      "pattern predict shape! (1, 23)\n",
      "max data pos:  0\n",
      "max data pos:  1\n",
      "max data pos:  18\n",
      "max data pos:  3\n",
      "max data pos:  0\n",
      "speed:  slow\n",
      "color:  orange\n",
      "pattern:  Swarm\n",
      "blur:  high\n",
      "desat:  None\n",
      "PATTERN MAX READING:  0.97001\n"
     ]
    }
   ],
   "source": [
    "for i in range(0, 10):\n",
    "    t1 = np.zeros((1, 1, 96, 938))\n",
    "    t1[0, :] = x_full[-i]\n",
    "    Spec = t1\n",
    "    Spec_small = Spec[:, :, :, -313:]\n",
    "\n",
    "    print('range number:'+ str(i))\n",
    "    speed_predict = model_speed.predict(Spec)\n",
    "    color_predict = model_color.predict(Spec)\n",
    "    pattern_predict = model_pattern.predict(Spec)\n",
    "    print('pattern predict shape!', pattern_predict.shape)\n",
    "    blur_predict = model_blur.predict(Spec_small)\n",
    "    desat_predict = model_desat.predict(Spec_small)\n",
    "\n",
    "    #print 'max data pos: ' , speed_predict.argmax()\n",
    "    speed_label, speed_index = get_max_label(speed_predict, speed_labels)\n",
    "    color_label, color_index = get_max_label(color_predict, color_labels_encoding)\n",
    "    pattern_label, pattern_index = get_max_label(pattern_predict, patterns_full)\n",
    "\n",
    "    blur_label, blur_index = get_max_label(blur_predict, effect_labels_full)  \n",
    "    desat_label, desat_index = get_max_label(desat_predict, effect_labels_full)  \n",
    "\n",
    "    print('speed: ', speed_label)\n",
    "    print('color: ', color_label)\n",
    "    print('pattern: ', pattern_label)\n",
    "    print('blur: ', blur_label)\n",
    "    print('desat: ', desat_label)\n",
    "    print('PATTERN MAX READING: ', pattern_predict.max())\n",
    "    "
   ]
  },
  {
   "cell_type": "code",
   "execution_count": 47,
   "metadata": {
    "collapsed": false
   },
   "outputs": [
    {
     "name": "stdout",
     "output_type": "stream",
     "text": [
      "checking shapes\n",
      "pattern shape:  [1765    1   96  938]\n",
      "color shape:  [1765    1   96  938]\n",
      "speed shape:  [1765    1   96  938]\n",
      "comparing all lengths!\n",
      "x test trimmed shape:  [1765    1   96  938]\n",
      "x test trimmed shape:  [856   1  96 313]\n",
      "Y_blur shape:  [856   1  96 313]\n",
      "Y_desat shape:  [856   1  96 313]\n",
      "('ALL THE SHAPES', array([1765,    1,   96,  938]), array([1765,    1,   96,  938]), 3)\n",
      "('ALL THE SHAPES', array([1765,    1,   96,  938]), array([1765,    1,   96,  938]), 8)\n",
      "('ALL THE SHAPES', array([1765,    1,   96,  938]), array([1765,    1,   96,  938]), 24)\n",
      "('ALL THE SHAPES', array([856,   1,  96, 313]), array([856,   1,  96, 313]), 4)\n",
      "('ALL THE SHAPES', array([856,   1,  96, 313]), array([856,   1,  96, 313]), 4)\n"
     ]
    }
   ],
   "source": [
    "X_train_shape = np.array((1765, 1, 96, 938))\n",
    "\n",
    "Y_pattern_train_shape = np.array((1765, 1, 96, 938))\n",
    "Y_color_train_shape = np.array((1765, 1, 96, 938)) #np.load(DATA_FOLDER + 'Y_color_train_v2.npy')\n",
    "Y_speed_train_shape = np.array((1765, 1, 96, 938)) #np.load(DATA_FOLDER + 'Y_speed_train_v2.npy')\n",
    "\n",
    "X_train_small_shape = np.array((856, 1, 96, 313)) #np.load(DATA_FOLDER + 'X_train_small_v2.npy')\n",
    "Y_blur_train_shape = np.array((856, 1, 96, 313)) #np.load(DATA_FOLDER + 'Y_blur_v2.npy')\n",
    "Y_desat_train_shape = np.array((856, 1, 96, 313)) #np.load(DATA_FOLDER + 'Y_desat_v2.npy')\n",
    "\n",
    "Y_speed_classes = 3\n",
    "Y_color_classes = 8\n",
    "Y_pattern_classes = 24\n",
    "Y_effect_classes = 4\n",
    "\n",
    "print('checking shapes')\n",
    "print('pattern shape: ', Y_pattern_train_shape)\n",
    "print('color shape: ', Y_color_train_shape)\n",
    "print('speed shape: ', Y_speed_train_shape)\n",
    "\n",
    "print('comparing all lengths!')\n",
    "print('x test trimmed shape: ', X_train_shape)\n",
    "\n",
    "print('x test trimmed shape: ', X_train_small_shape)\n",
    "#print 'Y_param shape: ', Y_param_full.shape\n",
    "print('Y_blur shape: ', Y_blur_train_shape)\n",
    "print('Y_desat shape: ', Y_desat_train_shape)\n",
    "\n",
    "############################\n",
    "# build and load models\n",
    "############################\n",
    "\n",
    "# big models, 15 sec\n",
    "\n",
    "model_speed = build_model_linear_end(X_train_shape, Y_speed_train_shape, nb_classes= Y_speed_classes)          \n",
    "model_color = build_model_linear_end(X_train_shape, Y_color_train_shape, nb_classes= Y_color_classes)\n",
    "model_pattern = build_model_linear_end_pattern(X_train_shape, Y_pattern_train_shape, nb_classes = Y_pattern_classes)\n",
    "\n",
    "# v2 MODELS\n",
    "# small models (5sec)\n",
    "\n",
    "model_blur = build_model_linear_end(X_train_small_shape, Y_blur_train_shape, nb_classes=Y_effect_classes)\n",
    "model_desat = build_model_linear_end(X_train_small_shape, Y_desat_train_shape, nb_classes=Y_effect_classes)\n"
   ]
  },
  {
   "cell_type": "code",
   "execution_count": 48,
   "metadata": {
    "collapsed": true
   },
   "outputs": [],
   "source": [
    "model_speed.load_weights(WEIGHTS_FOLDER + 'weights_speed_11_2_noval_85.hdf5')\n",
    "model_color.load_weights(WEIGHTS_FOLDER + 'weights_color_11_2_noval_91.hdf5')\n",
    "model_pattern.load_weights(WEIGHTS_FOLDER + 'weights_pattern_11_2_noval_84.hdf5')\n",
    "model_blur.load_weights(WEIGHTS_FOLDER + 'weights_blur_11_2_noval_84.hdf5')\n",
    "model_desat.load_weights(WEIGHTS_FOLDER + 'weights_desat_11_2_noval_80.hdf5')"
   ]
  },
  {
   "cell_type": "code",
   "execution_count": 43,
   "metadata": {
    "collapsed": true
   },
   "outputs": [],
   "source": [
    "WEIGHTS_FOLDER = '/Users/aaronopp/Desktop/SymmetryLabs/SLStudio/AI_VJ/model_weights/v2/'\n",
    "\n"
   ]
  },
  {
   "cell_type": "code",
   "execution_count": 46,
   "metadata": {
    "collapsed": false
   },
   "outputs": [
    {
     "name": "stdout",
     "output_type": "stream",
     "text": [
      "max data pos:  12\n",
      "pattern:  Rings\n"
     ]
    }
   ],
   "source": [
    "pattern_predict = model_pattern.predict(t1)\n",
    "pattern_label, pattern_index = get_max_label(pattern_predict, patterns_full)\n",
    "\n",
    "print('pattern: ', pattern_label)\n"
   ]
  },
  {
   "cell_type": "code",
   "execution_count": null,
   "metadata": {
    "collapsed": true
   },
   "outputs": [],
   "source": [
    "Spec \n",
    "Spec_small = Spec[:, :, :, -313:]\n"
   ]
  },
  {
   "cell_type": "code",
   "execution_count": null,
   "metadata": {
    "collapsed": true
   },
   "outputs": [],
   "source": [
    "speed_predict = model_speed.predict(Spec)\n",
    "color_predict = model_color.predict(Spec)\n",
    "pattern_predict = model_pattern.predict(Spec)\n",
    "print('pattern predict shape!', pattern_predict.shape)\n",
    "blur_predict = model_blur.predict(Spec_small)\n",
    "desat_predict = model_desat.predict(Spec_small)\n",
    "\n",
    "#print 'max data pos: ' , speed_predict.argmax()\n",
    "speed_label, speed_index = get_max_label(speed_predict, speed_labels)\n",
    "color_label, color_index = get_max_label(color_predict, color_labels_encoding)\n",
    "pattern_label, pattern_index = get_max_label(pattern_predict, patterns_full)\n",
    "\n",
    "blur_label, blur_index = get_max_label(blur_predict, effect_labels_full)  \n",
    "desat_label, desat_index = get_max_label(desat_predict, effect_labels_full)  \n",
    "\n",
    "print('speed: ', speed_label)\n",
    "print('color: ', color_label)\n",
    "print('pattern: ', pattern_label)\n",
    "print('blur: ', blur_label)\n",
    "print('desat: ', desat_label)\n",
    "print('PATTERN MAX READING: ', pattern_predict.max())"
   ]
  }
 ],
 "metadata": {
  "kernelspec": {
   "display_name": "Python 2",
   "language": "python",
   "name": "python2"
  },
  "language_info": {
   "codemirror_mode": {
    "name": "ipython",
    "version": 2
   },
   "file_extension": ".py",
   "mimetype": "text/x-python",
   "name": "python",
   "nbconvert_exporter": "python",
   "pygments_lexer": "ipython2",
   "version": "2.7.13"
  }
 },
 "nbformat": 4,
 "nbformat_minor": 2
}
