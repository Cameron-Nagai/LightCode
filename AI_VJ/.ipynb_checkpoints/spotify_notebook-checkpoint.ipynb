{
 "cells": [
  {
   "cell_type": "code",
   "execution_count": 169,
   "metadata": {
    "collapsed": true
   },
   "outputs": [],
   "source": [
    "import sys\n",
    "import spotipy\n",
    "import spotipy.util as util\n",
    "\n",
    "\n",
    "import calendar\n",
    "import dateutil\n",
    "\n",
    "import pandas as pd\n",
    "import numpy as np\n",
    "import matplotlib.pyplot as plt\n",
    "import os\n",
    "\n",
    "#scope = 'user-library-read'\n",
    "#scope = 'user-top-read user-read-playback-state'\n",
    "scope = 'user-read-playback-state user-read-recently-played'\n",
    "\n",
    "token = util.prompt_for_user_token('aaronopp', scope, client_id='dbe2a20785304190b8e35d5d6644397b', client_secret='cc259d8378be48beaad9171a5afb19ba', redirect_uri='http://localhost:8888/callback')\n",
    "import dateutil.parser as dp\n"
   ]
  },
  {
   "cell_type": "code",
   "execution_count": 170,
   "metadata": {
    "collapsed": false
   },
   "outputs": [
    {
     "data": {
      "text/plain": [
       "u'BQAdCN7tD_rMH-AeY3bE4aDfaN8dP3niU-J0ncYFaD-ceeC0L9aKuKvLS-WbxGQyM_R4nRDitN2Jq6ZLip-0Ha24OY9caGR0QkgoqCT9lVk6Z_ixIHE41SmcZiVUCRdMp9CjPlFDB7wW1unvAue1eX11nOL99FPEqsjE'"
      ]
     },
     "execution_count": 170,
     "metadata": {},
     "output_type": "execute_result"
    }
   ],
   "source": [
    "token"
   ]
  },
  {
   "cell_type": "code",
   "execution_count": 171,
   "metadata": {
    "collapsed": false
   },
   "outputs": [
    {
     "ename": "SyntaxError",
     "evalue": "invalid syntax (<ipython-input-171-2a577d9fd031>, line 18)",
     "output_type": "error",
     "traceback": [
      "\u001b[0;36m  File \u001b[0;32m\"<ipython-input-171-2a577d9fd031>\"\u001b[0;36m, line \u001b[0;32m18\u001b[0m\n\u001b[0;31m    print 'song name: ', curr_results['item']['name']\u001b[0m\n\u001b[0m                      ^\u001b[0m\n\u001b[0;31mSyntaxError\u001b[0m\u001b[0;31m:\u001b[0m invalid syntax\n"
     ]
    }
   ],
   "source": [
    "\n",
    "\n",
    "timestamp = []\n",
    "songs = []\n",
    "artists = []\n",
    "popularities = []\n",
    "ids = []\n",
    "if token:\n",
    "    sp = spotipy.Spotify(auth=token)\n",
    "    sp.trace=False\n",
    "    ranges = ['short_term', 'medium_term', 'long_term']\n",
    "    #esults = sp.current_user_playing_track()\n",
    "    curr_results = sp.current_playback()\n",
    "    #print curr_results\n",
    "    #print 'current playback keys ', curr_results.keys()\n",
    "    #print results['item']\n",
    "    #print 'user playing track keys', results.keys()\n",
    "    print 'song name: ', curr_results['item']['name']\n",
    "    print 'timestamp: ', curr_results['timestamp']\n",
    "    artist_info = curr_results['item']['artists']\n",
    "    print 'artist name: ', artist_info[0]['name']\n",
    "    print 'artist id: ', artist_info[0]['id']\n",
    "\t\n",
    "\n",
    "\n",
    "\t#print curr_results['timestamp']\n",
    "    #print 'type name: ', curr_results['item']['type']\n",
    "    print 'song id: ', curr_results['item']['id']\n",
    "    print '''\n",
    "\n",
    "\n",
    "\n",
    "\n",
    "\t'''\n",
    "    recent_results = sp.current_user_recently_played(limit=5)\n",
    "    print recent_results.keys()\n",
    "\n",
    "    print recent_results['href']\n",
    "    print recent_results['cursors']\n",
    "    print recent_results['next']\n",
    "\n",
    "    for i, item in enumerate(recent_results['items']):\n",
    "    \tprint 'name: ', item['track']['name']\n",
    "    \tprint 'id: ', item['track']['id']\n",
    "    \tartist_info = item['track']['artists']\n",
    "    \tprint 'artist: ', artist_info[0]['name']\n",
    "    \tprint 'duration ms: ', item['track']['duration_ms']\n",
    "\n",
    "    \tprint 'popularity: ', item['track']['popularity']\n",
    "    \t\n",
    "        \n",
    "        print 'played: ', item['played_at']\n",
    "        print 'type', type(item['played_at'])\n",
    "    \ttimestamp.append(item['played_at'])\n",
    "        songs.append(item['track']['name'])\n",
    "        ids.append(item['track']['id'])\n",
    "        artists.append(artist_info[0]['name'])\n",
    "        popularities.append(item['track']['popularity'])\n",
    "\n",
    "    \n",
    "else:\n",
    "    print \"Can't get token for\", username\n",
    " "
   ]
  },
  {
   "cell_type": "code",
   "execution_count": 161,
   "metadata": {
    "collapsed": false
   },
   "outputs": [
    {
     "ename": "SyntaxError",
     "evalue": "invalid syntax (<ipython-input-161-f346046bff5b>, line 16)",
     "output_type": "error",
     "traceback": [
      "\u001b[0;36m  File \u001b[0;32m\"<ipython-input-161-f346046bff5b>\"\u001b[0;36m, line \u001b[0;32m16\u001b[0m\n\u001b[0;31m    print 'song name: ', curr_results['item']['name']\u001b[0m\n\u001b[0m                      ^\u001b[0m\n\u001b[0;31mSyntaxError\u001b[0m\u001b[0;31m:\u001b[0m invalid syntax\n"
     ]
    }
   ],
   "source": [
    "timestamp = []\n",
    "songs = []\n",
    "artists = []\n",
    "popularities = []\n",
    "ids = []\n",
    "if token:\n",
    "    sp = spotipy.Spotify(auth=token)\n",
    "    sp.trace=False\n",
    "    ranges = ['short_term', 'medium_term', 'long_term']\n",
    "    #esults = sp.current_user_playing_track()\n",
    "    curr_results = sp.current_playback()\n",
    "    #print curr_results\n",
    "    #print 'current playback keys ', curr_results.keys()\n",
    "    #print results['item']\n",
    "    #print 'user playing track keys', results.keys()\n",
    "    print 'song name: ', curr_results['item']['name']\n",
    "    print 'timestamp: ', curr_results['timestamp']\n",
    "    artist_info = curr_results['item']['artists']\n",
    "    print 'artist name: ', artist_info[0]['name']\n",
    "    print 'artist id: ', artist_info[0]['id']\n",
    "\t\n",
    "\n",
    "\n",
    "\t#print curr_results['timestamp']\n",
    "    #print 'type name: ', curr_results['item']['type']\n",
    "    print 'song id: ', curr_results['item']['id']\n",
    "    print '''\n",
    "\n",
    "\n",
    "\n",
    "\n",
    "\t'''\n",
    "    recent_results = sp.current_user_recently_played(limit=5)\n",
    "    print recent_results.keys()\n",
    "\n",
    "    print recent_results['href']\n",
    "    print recent_results['cursors']\n",
    "    print recent_results['next']\n",
    "\n",
    "    for i, item in enumerate(recent_results['items']):\n",
    "    \tprint 'name: ', item['track']['name']\n",
    "    \tprint 'id: ', item['track']['id']\n",
    "    \tartist_info = item['track']['artists']\n",
    "    \tprint 'artist: ', artist_info[0]['name']\n",
    "    \tprint 'duration ms: ', item['track']['duration_ms']\n",
    "\n",
    "    \tprint 'popularity: ', item['track']['popularity']\n",
    "    \t\n",
    "        \n",
    "        print 'played: ', item['played_at']\n",
    "        print 'type', type(item['played_at'])\n",
    "    \ttimestamp.append(item['played_at'])\n",
    "        songs.append(item['track']['name'])\n",
    "        ids.append(item['track']['id'])\n",
    "        artists.append(artist_info[0]['name'])\n",
    "        popularities.append(item['track']['popularity'])\n"
   ]
  },
  {
   "cell_type": "code",
   "execution_count": 164,
   "metadata": {
    "collapsed": false,
    "scrolled": false
   },
   "outputs": [
    {
     "ename": "SpotifyException",
     "evalue": "http status: 401, code:-1 - https://api.spotify.com/v1/audio-features/?ids=3NcVvkKsZiwrny2SGn5SqE,668DFatfdHGmq2s45NXiKD,4uZtm0cNm36PB3eSz5e3X6,52bteDm5PRNSBoBcTXdxNg,52bteDm5PRNSBoBcTXdxNg:\n The access token expired",
     "output_type": "error",
     "traceback": [
      "\u001b[0;31m---------------------------------------------------------------------------\u001b[0m",
      "\u001b[0;31mSpotifyException\u001b[0m                          Traceback (most recent call last)",
      "\u001b[0;32m<ipython-input-164-21a01311f6cc>\u001b[0m in \u001b[0;36m<module>\u001b[0;34m()\u001b[0m\n\u001b[1;32m      1\u001b[0m \u001b[0;31m# get audio features for each track and save as a JSON!\u001b[0m\u001b[0;34m\u001b[0m\u001b[0;34m\u001b[0m\u001b[0m\n\u001b[0;32m----> 2\u001b[0;31m \u001b[0mfeatures\u001b[0m \u001b[0;34m=\u001b[0m \u001b[0msp\u001b[0m\u001b[0;34m.\u001b[0m\u001b[0maudio_features\u001b[0m\u001b[0;34m(\u001b[0m\u001b[0mids\u001b[0m\u001b[0;34m)\u001b[0m\u001b[0;34m\u001b[0m\u001b[0m\n\u001b[0m\u001b[1;32m      3\u001b[0m \u001b[0mfeatures_json\u001b[0m \u001b[0;34m=\u001b[0m \u001b[0;34m[\u001b[0m\u001b[0;34m]\u001b[0m\u001b[0;34m\u001b[0m\u001b[0m\n\u001b[1;32m      4\u001b[0m \u001b[0;32mfor\u001b[0m \u001b[0mfeature\u001b[0m \u001b[0;32min\u001b[0m \u001b[0mfeatures\u001b[0m\u001b[0;34m:\u001b[0m\u001b[0;34m\u001b[0m\u001b[0m\n\u001b[1;32m      5\u001b[0m     \u001b[0;31m#print feature\u001b[0m\u001b[0;34m\u001b[0m\u001b[0;34m\u001b[0m\u001b[0m\n",
      "\u001b[0;32m/Users/aaronopp/anaconda/lib/python2.7/site-packages/spotipy/client.pyc\u001b[0m in \u001b[0;36maudio_features\u001b[0;34m(self, tracks)\u001b[0m\n\u001b[1;32m    862\u001b[0m         \u001b[0;32melse\u001b[0m\u001b[0;34m:\u001b[0m\u001b[0;34m\u001b[0m\u001b[0m\n\u001b[1;32m    863\u001b[0m             \u001b[0mtlist\u001b[0m \u001b[0;34m=\u001b[0m \u001b[0;34m[\u001b[0m\u001b[0mself\u001b[0m\u001b[0;34m.\u001b[0m\u001b[0m_get_id\u001b[0m\u001b[0;34m(\u001b[0m\u001b[0;34m'track'\u001b[0m\u001b[0;34m,\u001b[0m \u001b[0mt\u001b[0m\u001b[0;34m)\u001b[0m \u001b[0;32mfor\u001b[0m \u001b[0mt\u001b[0m \u001b[0;32min\u001b[0m \u001b[0mtracks\u001b[0m\u001b[0;34m]\u001b[0m\u001b[0;34m\u001b[0m\u001b[0m\n\u001b[0;32m--> 864\u001b[0;31m             \u001b[0mresults\u001b[0m \u001b[0;34m=\u001b[0m \u001b[0mself\u001b[0m\u001b[0;34m.\u001b[0m\u001b[0m_get\u001b[0m\u001b[0;34m(\u001b[0m\u001b[0;34m'audio-features/?ids='\u001b[0m \u001b[0;34m+\u001b[0m \u001b[0;34m','\u001b[0m\u001b[0;34m.\u001b[0m\u001b[0mjoin\u001b[0m\u001b[0;34m(\u001b[0m\u001b[0mtlist\u001b[0m\u001b[0;34m)\u001b[0m\u001b[0;34m)\u001b[0m\u001b[0;34m\u001b[0m\u001b[0m\n\u001b[0m\u001b[1;32m    865\u001b[0m         \u001b[0;31m# the response has changed, look for the new style first, and if\u001b[0m\u001b[0;34m\u001b[0m\u001b[0;34m\u001b[0m\u001b[0m\n\u001b[1;32m    866\u001b[0m         \u001b[0;31m# its not there, fallback on the old style\u001b[0m\u001b[0;34m\u001b[0m\u001b[0;34m\u001b[0m\u001b[0m\n",
      "\u001b[0;32m/Users/aaronopp/anaconda/lib/python2.7/site-packages/spotipy/client.pyc\u001b[0m in \u001b[0;36m_get\u001b[0;34m(self, url, args, payload, **kwargs)\u001b[0m\n\u001b[1;32m    146\u001b[0m         \u001b[0;32mwhile\u001b[0m \u001b[0mretries\u001b[0m \u001b[0;34m>\u001b[0m \u001b[0;36m0\u001b[0m\u001b[0;34m:\u001b[0m\u001b[0;34m\u001b[0m\u001b[0m\n\u001b[1;32m    147\u001b[0m             \u001b[0;32mtry\u001b[0m\u001b[0;34m:\u001b[0m\u001b[0;34m\u001b[0m\u001b[0m\n\u001b[0;32m--> 148\u001b[0;31m                 \u001b[0;32mreturn\u001b[0m \u001b[0mself\u001b[0m\u001b[0;34m.\u001b[0m\u001b[0m_internal_call\u001b[0m\u001b[0;34m(\u001b[0m\u001b[0;34m'GET'\u001b[0m\u001b[0;34m,\u001b[0m \u001b[0murl\u001b[0m\u001b[0;34m,\u001b[0m \u001b[0mpayload\u001b[0m\u001b[0;34m,\u001b[0m \u001b[0mkwargs\u001b[0m\u001b[0;34m)\u001b[0m\u001b[0;34m\u001b[0m\u001b[0m\n\u001b[0m\u001b[1;32m    149\u001b[0m             \u001b[0;32mexcept\u001b[0m \u001b[0mSpotifyException\u001b[0m \u001b[0;32mas\u001b[0m \u001b[0me\u001b[0m\u001b[0;34m:\u001b[0m\u001b[0;34m\u001b[0m\u001b[0m\n\u001b[1;32m    150\u001b[0m                 \u001b[0mretries\u001b[0m \u001b[0;34m-=\u001b[0m \u001b[0;36m1\u001b[0m\u001b[0;34m\u001b[0m\u001b[0m\n",
      "\u001b[0;32m/Users/aaronopp/anaconda/lib/python2.7/site-packages/spotipy/client.pyc\u001b[0m in \u001b[0;36m_internal_call\u001b[0;34m(self, method, url, payload, params)\u001b[0m\n\u001b[1;32m    124\u001b[0m                 raise SpotifyException(r.status_code,\n\u001b[1;32m    125\u001b[0m                     \u001b[0;34m-\u001b[0m\u001b[0;36m1\u001b[0m\u001b[0;34m,\u001b[0m \u001b[0;34m'%s:\\n %s'\u001b[0m \u001b[0;34m%\u001b[0m \u001b[0;34m(\u001b[0m\u001b[0mr\u001b[0m\u001b[0;34m.\u001b[0m\u001b[0murl\u001b[0m\u001b[0;34m,\u001b[0m \u001b[0mr\u001b[0m\u001b[0;34m.\u001b[0m\u001b[0mjson\u001b[0m\u001b[0;34m(\u001b[0m\u001b[0;34m)\u001b[0m\u001b[0;34m[\u001b[0m\u001b[0;34m'error'\u001b[0m\u001b[0;34m]\u001b[0m\u001b[0;34m[\u001b[0m\u001b[0;34m'message'\u001b[0m\u001b[0;34m]\u001b[0m\u001b[0;34m)\u001b[0m\u001b[0;34m,\u001b[0m\u001b[0;34m\u001b[0m\u001b[0m\n\u001b[0;32m--> 126\u001b[0;31m                     headers=r.headers)\n\u001b[0m\u001b[1;32m    127\u001b[0m             \u001b[0;32melse\u001b[0m\u001b[0;34m:\u001b[0m\u001b[0;34m\u001b[0m\u001b[0m\n\u001b[1;32m    128\u001b[0m                 raise SpotifyException(r.status_code,\n",
      "\u001b[0;31mSpotifyException\u001b[0m: http status: 401, code:-1 - https://api.spotify.com/v1/audio-features/?ids=3NcVvkKsZiwrny2SGn5SqE,668DFatfdHGmq2s45NXiKD,4uZtm0cNm36PB3eSz5e3X6,52bteDm5PRNSBoBcTXdxNg,52bteDm5PRNSBoBcTXdxNg:\n The access token expired"
     ]
    }
   ],
   "source": [
    "# get audio features for each track and save as a JSON!\n",
    "features = sp.audio_features(ids)\n",
    "features_json = []\n",
    "for feature in features:\n",
    "    #print feature\n",
    "    print(json.dumps(feature, indent=4))\n",
    "    print()\n",
    "    features_json.append(json.dumps(feature, indent=4))\n",
    "    with open('data.json', 'a') as outfile:\n",
    "        json.dump(feature, outfile, indent=4)\n",
    "    #analysis = sp._get(feature['analysis_url'])\n",
    "    #print(json.dumps(analysis, indent=4))\n",
    "    #print()"
   ]
  },
  {
   "cell_type": "code",
   "execution_count": 172,
   "metadata": {
    "collapsed": false
   },
   "outputs": [
    {
     "ename": "SyntaxError",
     "evalue": "invalid syntax (<ipython-input-172-6a0f1aa3c0e3>, line 6)",
     "output_type": "error",
     "traceback": [
      "\u001b[0;36m  File \u001b[0;32m\"<ipython-input-172-6a0f1aa3c0e3>\"\u001b[0;36m, line \u001b[0;32m6\u001b[0m\n\u001b[0;31m    print utc_timestamps\u001b[0m\n\u001b[0m                       ^\u001b[0m\n\u001b[0;31mSyntaxError\u001b[0m\u001b[0;31m:\u001b[0m invalid syntax\n"
     ]
    }
   ],
   "source": [
    "#get timestamps\n",
    "utc_timestamps = []\n",
    "for time in timestamp:\n",
    "    \n",
    "    utc_timestamps.append(calendar.timegm(dateutil.parser.parse(time).timetuple()))\n",
    "print utc_timestamps"
   ]
  },
  {
   "cell_type": "code",
   "execution_count": 91,
   "metadata": {
    "collapsed": false
   },
   "outputs": [
    {
     "data": {
      "text/html": [
       "<div>\n",
       "<table border=\"1\" class=\"dataframe\">\n",
       "  <thead>\n",
       "    <tr style=\"text-align: right;\">\n",
       "      <th></th>\n",
       "      <th>artist</th>\n",
       "      <th>id</th>\n",
       "      <th>popularity</th>\n",
       "      <th>song</th>\n",
       "    </tr>\n",
       "    <tr>\n",
       "      <th>timestamp</th>\n",
       "      <th></th>\n",
       "      <th></th>\n",
       "      <th></th>\n",
       "      <th></th>\n",
       "    </tr>\n",
       "  </thead>\n",
       "  <tbody>\n",
       "    <tr>\n",
       "      <th>1516153593</th>\n",
       "      <td>Maxo Kream</td>\n",
       "      <td>3NcVvkKsZiwrny2SGn5SqE</td>\n",
       "      <td>48</td>\n",
       "      <td>Janky</td>\n",
       "    </tr>\n",
       "    <tr>\n",
       "      <th>1516153315</th>\n",
       "      <td>Maxo Kream</td>\n",
       "      <td>668DFatfdHGmq2s45NXiKD</td>\n",
       "      <td>49</td>\n",
       "      <td>Pop Another</td>\n",
       "    </tr>\n",
       "    <tr>\n",
       "      <th>1516153061</th>\n",
       "      <td>Jagwar Ma</td>\n",
       "      <td>4uZtm0cNm36PB3eSz5e3X6</td>\n",
       "      <td>7</td>\n",
       "      <td>The Throw - Spotify Sessions Curated by Jim Eno</td>\n",
       "    </tr>\n",
       "    <tr>\n",
       "      <th>1516152573</th>\n",
       "      <td>Gardens &amp; Villa</td>\n",
       "      <td>52bteDm5PRNSBoBcTXdxNg</td>\n",
       "      <td>10</td>\n",
       "      <td>Star Fire Power - Spotify Sessions Curated by ...</td>\n",
       "    </tr>\n",
       "    <tr>\n",
       "      <th>1516152507</th>\n",
       "      <td>Gardens &amp; Villa</td>\n",
       "      <td>52bteDm5PRNSBoBcTXdxNg</td>\n",
       "      <td>10</td>\n",
       "      <td>Star Fire Power - Spotify Sessions Curated by ...</td>\n",
       "    </tr>\n",
       "  </tbody>\n",
       "</table>\n",
       "</div>"
      ],
      "text/plain": [
       "                     artist                      id  popularity  \\\n",
       "timestamp                                                         \n",
       "1516153593       Maxo Kream  3NcVvkKsZiwrny2SGn5SqE          48   \n",
       "1516153315       Maxo Kream  668DFatfdHGmq2s45NXiKD          49   \n",
       "1516153061        Jagwar Ma  4uZtm0cNm36PB3eSz5e3X6           7   \n",
       "1516152573  Gardens & Villa  52bteDm5PRNSBoBcTXdxNg          10   \n",
       "1516152507  Gardens & Villa  52bteDm5PRNSBoBcTXdxNg          10   \n",
       "\n",
       "                                                         song  \n",
       "timestamp                                                      \n",
       "1516153593                                              Janky  \n",
       "1516153315                                        Pop Another  \n",
       "1516153061    The Throw - Spotify Sessions Curated by Jim Eno  \n",
       "1516152573  Star Fire Power - Spotify Sessions Curated by ...  \n",
       "1516152507  Star Fire Power - Spotify Sessions Curated by ...  "
      ]
     },
     "execution_count": 91,
     "metadata": {},
     "output_type": "execute_result"
    }
   ],
   "source": [
    "# create dataframe of basic data.\n",
    "spotify_data = {'timestamp': utc_timestamps, 'artist': artists, 'song': songs, 'id': ids, 'popularity': popularities}\n",
    "spotify_data_df = pd.DataFrame(spotify_data)\n",
    "spotify_data_df.set_index('timestamp')"
   ]
  },
  {
   "cell_type": "code",
   "execution_count": 87,
   "metadata": {
    "collapsed": false
   },
   "outputs": [
    {
     "data": {
      "text/html": [
       "<div>\n",
       "<table border=\"1\" class=\"dataframe\">\n",
       "  <thead>\n",
       "    <tr style=\"text-align: right;\">\n",
       "      <th></th>\n",
       "      <th>artist</th>\n",
       "      <th>id</th>\n",
       "      <th>popularity</th>\n",
       "      <th>song</th>\n",
       "      <th>timestamp</th>\n",
       "    </tr>\n",
       "  </thead>\n",
       "  <tbody>\n",
       "    <tr>\n",
       "      <th>0</th>\n",
       "      <td>Maxo Kream</td>\n",
       "      <td>3NcVvkKsZiwrny2SGn5SqE</td>\n",
       "      <td>48</td>\n",
       "      <td>Janky</td>\n",
       "      <td>1516153593</td>\n",
       "    </tr>\n",
       "    <tr>\n",
       "      <th>1</th>\n",
       "      <td>Maxo Kream</td>\n",
       "      <td>668DFatfdHGmq2s45NXiKD</td>\n",
       "      <td>49</td>\n",
       "      <td>Pop Another</td>\n",
       "      <td>1516153315</td>\n",
       "    </tr>\n",
       "    <tr>\n",
       "      <th>2</th>\n",
       "      <td>Jagwar Ma</td>\n",
       "      <td>4uZtm0cNm36PB3eSz5e3X6</td>\n",
       "      <td>7</td>\n",
       "      <td>The Throw - Spotify Sessions Curated by Jim Eno</td>\n",
       "      <td>1516153061</td>\n",
       "    </tr>\n",
       "    <tr>\n",
       "      <th>3</th>\n",
       "      <td>Gardens &amp; Villa</td>\n",
       "      <td>52bteDm5PRNSBoBcTXdxNg</td>\n",
       "      <td>10</td>\n",
       "      <td>Star Fire Power - Spotify Sessions Curated by ...</td>\n",
       "      <td>1516152573</td>\n",
       "    </tr>\n",
       "    <tr>\n",
       "      <th>4</th>\n",
       "      <td>Gardens &amp; Villa</td>\n",
       "      <td>52bteDm5PRNSBoBcTXdxNg</td>\n",
       "      <td>10</td>\n",
       "      <td>Star Fire Power - Spotify Sessions Curated by ...</td>\n",
       "      <td>1516152507</td>\n",
       "    </tr>\n",
       "  </tbody>\n",
       "</table>\n",
       "</div>"
      ],
      "text/plain": [
       "            artist                      id  popularity  \\\n",
       "0       Maxo Kream  3NcVvkKsZiwrny2SGn5SqE          48   \n",
       "1       Maxo Kream  668DFatfdHGmq2s45NXiKD          49   \n",
       "2        Jagwar Ma  4uZtm0cNm36PB3eSz5e3X6           7   \n",
       "3  Gardens & Villa  52bteDm5PRNSBoBcTXdxNg          10   \n",
       "4  Gardens & Villa  52bteDm5PRNSBoBcTXdxNg          10   \n",
       "\n",
       "                                                song   timestamp  \n",
       "0                                              Janky  1516153593  \n",
       "1                                        Pop Another  1516153315  \n",
       "2    The Throw - Spotify Sessions Curated by Jim Eno  1516153061  \n",
       "3  Star Fire Power - Spotify Sessions Curated by ...  1516152573  \n",
       "4  Star Fire Power - Spotify Sessions Curated by ...  1516152507  "
      ]
     },
     "execution_count": 87,
     "metadata": {},
     "output_type": "execute_result"
    }
   ],
   "source": [
    "spotify_data_df"
   ]
  },
  {
   "cell_type": "code",
   "execution_count": 82,
   "metadata": {
    "collapsed": false
   },
   "outputs": [
    {
     "name": "stdout",
     "output_type": "stream",
     "text": [
      "1516180450\n"
     ]
    }
   ],
   "source": [
    "parsed_t = dp.parse('2018-01-17T01:14:10.702Z')\n",
    "t_in_seconds = parsed_t.strftime('%s')\n",
    "print t_in_seconds"
   ]
  },
  {
   "cell_type": "code",
   "execution_count": 14,
   "metadata": {
    "collapsed": false
   },
   "outputs": [
    {
     "data": {
      "text/plain": [
       "[u'2018-01-17T00:42:03.656Z',\n",
       " u'2018-01-17T00:38:24.765Z',\n",
       " u'2018-01-17T00:34:20.871Z',\n",
       " u'2018-01-17T00:31:36.903Z',\n",
       " u'2018-01-17T00:27:12.295Z']"
      ]
     },
     "execution_count": 14,
     "metadata": {},
     "output_type": "execute_result"
    }
   ],
   "source": [
    "timestamp"
   ]
  },
  {
   "cell_type": "code",
   "execution_count": 65,
   "metadata": {
    "collapsed": false
   },
   "outputs": [
    {
     "data": {
      "text/plain": [
       "1516151650"
      ]
     },
     "execution_count": 65,
     "metadata": {},
     "output_type": "execute_result"
    }
   ],
   "source": [
    "calendar.timegm(dateutil.parser.parse('2018-01-17T01:14:10.702Z').timetuple())"
   ]
  },
  {
   "cell_type": "code",
   "execution_count": 28,
   "metadata": {
    "collapsed": false
   },
   "outputs": [
    {
     "data": {
      "text/plain": [
       "27686732"
      ]
     },
     "execution_count": 28,
     "metadata": {},
     "output_type": "execute_result"
    }
   ],
   "source": [
    "1516177632000-1516149945268"
   ]
  },
  {
   "cell_type": "code",
   "execution_count": 30,
   "metadata": {
    "collapsed": true
   },
   "outputs": [],
   "source": [
    "import datetime as datetime"
   ]
  },
  {
   "cell_type": "code",
   "execution_count": 31,
   "metadata": {
    "collapsed": false
   },
   "outputs": [
    {
     "ename": "AttributeError",
     "evalue": "'module' object has no attribute 'utcfromtimestamp'",
     "output_type": "error",
     "traceback": [
      "\u001b[0;31m---------------------------------------------------------------------------\u001b[0m",
      "\u001b[0;31mAttributeError\u001b[0m                            Traceback (most recent call last)",
      "\u001b[0;32m<ipython-input-31-e847e8c61875>\u001b[0m in \u001b[0;36m<module>\u001b[0;34m()\u001b[0m\n\u001b[0;32m----> 1\u001b[0;31m \u001b[0mdatetime\u001b[0m\u001b[0;34m.\u001b[0m\u001b[0mutcfromtimestamp\u001b[0m\u001b[0;34m(\u001b[0m\u001b[0;36m455051100\u001b[0m\u001b[0;34m)\u001b[0m\u001b[0;34m\u001b[0m\u001b[0m\n\u001b[0m",
      "\u001b[0;31mAttributeError\u001b[0m: 'module' object has no attribute 'utcfromtimestamp'"
     ]
    }
   ],
   "source": [
    "datetime.utcfromtimestamp(455051100)"
   ]
  },
  {
   "cell_type": "code",
   "execution_count": 45,
   "metadata": {
    "collapsed": false
   },
   "outputs": [
    {
     "name": "stdout",
     "output_type": "stream",
     "text": [
      "song name:  Thorn Castles - Spotify Sessions Curated by Jim Eno\n",
      "timestamp:  1516152275630\n",
      "artist name:  Gardens & Villa\n",
      "artist id:  5NgfalfOtMDHkJ0SbFAxyA\n",
      "song id:  5Oz95fjUdmNelcvFv4BTX4\n",
      "0.390873193741\n"
     ]
    }
   ],
   "source": [
    "scope = 'user-read-playback-state user-read-recently-played'\n",
    "\n",
    "token = util.prompt_for_user_token('aaronopp', scope, client_id='dbe2a20785304190b8e35d5d6644397b', client_secret='cc259d8378be48beaad9171a5afb19ba', redirect_uri='http://localhost:8888/callback')\n",
    "\n",
    "\n",
    "start = time.time()\n",
    "if token:\n",
    "    sp = spotipy.Spotify(auth=token)\n",
    "    sp.trace=False\n",
    "    ranges = ['short_term', 'medium_term', 'long_term']\n",
    "    #esults = sp.current_user_playing_track()\n",
    "    curr_results = sp.current_playback()\n",
    "    #print curr_results\n",
    "    #print 'current playback keys ', curr_results.keys()\n",
    "    #print results['item']\n",
    "    #print 'user playing track keys', results.keys()\n",
    "    print 'song name: ', curr_results['item']['name']\n",
    "    print 'timestamp: ', curr_results['timestamp']\n",
    "    artist_info = curr_results['item']['artists']\n",
    "    print 'artist name: ', artist_info[0]['name']\n",
    "    print 'artist id: ', artist_info[0]['id']\n",
    "\t\n",
    "\n",
    "\n",
    "\t#print curr_results['timestamp']\n",
    "    #print 'type name: ', curr_results['item']['type']\n",
    "    print 'song id: ', curr_results['item']['id']\n",
    "    \n",
    "else:\n",
    "    print \"Can't get token for\", username\n",
    "\n",
    "print time.time() - start"
   ]
  },
  {
   "cell_type": "code",
   "execution_count": 92,
   "metadata": {
    "collapsed": false
   },
   "outputs": [
    {
     "ename": "SpotifyOauthError",
     "evalue": "No client id",
     "output_type": "error",
     "traceback": [
      "\u001b[0;31m---------------------------------------------------------------------------\u001b[0m",
      "\u001b[0;31mSpotifyOauthError\u001b[0m                         Traceback (most recent call last)",
      "\u001b[0;32m<ipython-input-92-0e8544665dd1>\u001b[0m in \u001b[0;36m<module>\u001b[0;34m()\u001b[0m\n\u001b[1;32m      7\u001b[0m \u001b[0;34m\u001b[0m\u001b[0m\n\u001b[1;32m      8\u001b[0m \u001b[0;34m\u001b[0m\u001b[0m\n\u001b[0;32m----> 9\u001b[0;31m \u001b[0mclient_credentials_manager\u001b[0m \u001b[0;34m=\u001b[0m \u001b[0mSpotifyClientCredentials\u001b[0m\u001b[0;34m(\u001b[0m\u001b[0;34m)\u001b[0m\u001b[0;34m\u001b[0m\u001b[0m\n\u001b[0m\u001b[1;32m     10\u001b[0m \u001b[0msp\u001b[0m \u001b[0;34m=\u001b[0m \u001b[0mspotipy\u001b[0m\u001b[0;34m.\u001b[0m\u001b[0mSpotify\u001b[0m\u001b[0;34m(\u001b[0m\u001b[0mclient_credentials_manager\u001b[0m\u001b[0;34m=\u001b[0m\u001b[0mclient_credentials_manager\u001b[0m\u001b[0;34m)\u001b[0m\u001b[0;34m\u001b[0m\u001b[0m\n\u001b[1;32m     11\u001b[0m \u001b[0msp\u001b[0m\u001b[0;34m.\u001b[0m\u001b[0mtrace\u001b[0m\u001b[0;34m=\u001b[0m\u001b[0mFalse\u001b[0m\u001b[0;34m\u001b[0m\u001b[0m\n",
      "\u001b[0;32m/Users/aaronopp/anaconda/lib/python2.7/site-packages/spotipy/oauth2.pyc\u001b[0m in \u001b[0;36m__init__\u001b[0;34m(self, client_id, client_secret, proxies)\u001b[0m\n\u001b[1;32m     37\u001b[0m \u001b[0;34m\u001b[0m\u001b[0m\n\u001b[1;32m     38\u001b[0m         \u001b[0;32mif\u001b[0m \u001b[0;32mnot\u001b[0m \u001b[0mclient_id\u001b[0m\u001b[0;34m:\u001b[0m\u001b[0;34m\u001b[0m\u001b[0m\n\u001b[0;32m---> 39\u001b[0;31m             \u001b[0;32mraise\u001b[0m \u001b[0mSpotifyOauthError\u001b[0m\u001b[0;34m(\u001b[0m\u001b[0;34m'No client id'\u001b[0m\u001b[0;34m)\u001b[0m\u001b[0;34m\u001b[0m\u001b[0m\n\u001b[0m\u001b[1;32m     40\u001b[0m \u001b[0;34m\u001b[0m\u001b[0m\n\u001b[1;32m     41\u001b[0m         \u001b[0;32mif\u001b[0m \u001b[0;32mnot\u001b[0m \u001b[0mclient_secret\u001b[0m\u001b[0;34m:\u001b[0m\u001b[0;34m\u001b[0m\u001b[0m\n",
      "\u001b[0;31mSpotifyOauthError\u001b[0m: No client id"
     ]
    }
   ],
   "source": []
  },
  {
   "cell_type": "code",
   "execution_count": 42,
   "metadata": {
    "collapsed": false
   },
   "outputs": [],
   "source": [
    "import time as time"
   ]
  },
  {
   "cell_type": "code",
   "execution_count": null,
   "metadata": {
    "collapsed": true
   },
   "outputs": [],
   "source": []
  }
 ],
 "metadata": {
  "kernelspec": {
   "display_name": "Python 2",
   "language": "python",
   "name": "python2"
  },
  "language_info": {
   "codemirror_mode": {
    "name": "ipython",
    "version": 2
   },
   "file_extension": ".py",
   "mimetype": "text/x-python",
   "name": "python",
   "nbconvert_exporter": "python",
   "pygments_lexer": "ipython2",
   "version": "2.7.13"
  }
 },
 "nbformat": 4,
 "nbformat_minor": 2
}
