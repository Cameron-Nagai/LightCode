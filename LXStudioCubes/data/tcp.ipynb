{
 "cells": [
  {
   "cell_type": "code",
   "execution_count": 67,
   "metadata": {},
   "outputs": [
    {
     "name": "stdout",
     "output_type": "stream",
     "text": [
      "received data: {}\r\n",
      "\n"
     ]
    }
   ],
   "source": [
    "import socket\n",
    "import json\n",
    "import math\n",
    "\n",
    "P = math.pi\n",
    "\n",
    "TCP_IP = '127.0.0.1'\n",
    "TCP_PORT = 8724\n",
    "BUFFER_SIZE = 1024\n",
    "\n",
    "SIZE = 24.0\n",
    "\n",
    "\n",
    "MESSAGE = json.dumps({\n",
    "    \"command\": \"debug.setText\",\n",
    "    \"args\": {\n",
    "        \"textScaleX\": 0,\n",
    "        \"textScaleY\": 0,\n",
    "        \"textRotX\": 0,\n",
    "        \"textRotY\": 0,\n",
    "        \"textRotZ\": 6,\n",
    "        \"textCoordX\": SIZE/2,\n",
    "        \"textCoordY\": -SIZE/2,\n",
    "        \"textCoordZ\":  SIZE + 0.1,\n",
    "    }\n",
    "}) + \"\\n\"\n",
    "\n",
    "s = socket.socket(socket.AF_INET, socket.SOCK_STREAM)\n",
    "s.connect((TCP_IP, TCP_PORT))\n",
    "s.send(MESSAGE)\n",
    "data = s.recv(BUFFER_SIZE)\n",
    "s.close()\n",
    "\n",
    "print \"received data:\", data"
   ]
  },
  {
   "cell_type": "code",
   "execution_count": null,
   "metadata": {
    "collapsed": true
   },
   "outputs": [],
   "source": []
  },
  {
   "cell_type": "code",
   "execution_count": null,
   "metadata": {
    "collapsed": true
   },
   "outputs": [],
   "source": []
  },
  {
   "cell_type": "code",
   "execution_count": null,
   "metadata": {
    "collapsed": true
   },
   "outputs": [],
   "source": []
  }
 ],
 "metadata": {
  "kernelspec": {
   "display_name": "Python 2",
   "language": "python",
   "name": "python2"
  },
  "language_info": {
   "codemirror_mode": {
    "name": "ipython",
    "version": 2
   },
   "file_extension": ".py",
   "mimetype": "text/x-python",
   "name": "python",
   "nbconvert_exporter": "python",
   "pygments_lexer": "ipython2",
   "version": "2.7.13"
  }
 },
 "nbformat": 4,
 "nbformat_minor": 2
}
