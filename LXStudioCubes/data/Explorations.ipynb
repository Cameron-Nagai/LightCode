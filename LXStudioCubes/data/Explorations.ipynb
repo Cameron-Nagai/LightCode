{
 "cells": [
  {
   "cell_type": "code",
   "execution_count": 187,
   "metadata": {
    "collapsed": true
   },
   "outputs": [],
   "source": [
    "import json\n",
    "import numpy as np\n",
    "import sys\n",
    "import cv2\n",
    "from collections import Counter, defaultdict\n",
    "from pprint import pprint\n",
    "from transformations import euler_from_matrix, euler_matrix, translation_matrix\n",
    "from copy import deepcopy\n",
    "np.set_printoptions(suppress=True)"
   ]
  },
  {
   "cell_type": "code",
   "execution_count": 197,
   "metadata": {
    "collapsed": true
   },
   "outputs": [],
   "source": [
    "scans = []\n",
    "\n",
    "for fname in [\"a.json\", \"b.json\"]:\n",
    "    scans.append(json.load(open(fname)))\n",
    "\n",
    "ids = []\n",
    "cubes_by_id = defaultdict(list)\n",
    "\n",
    "for scan in scans:\n",
    "    for cube in scan:\n",
    "        ids.append(cube[\"id\"])\n",
    "        cubes_by_id[cube[\"id\"]].append(cube)\n",
    "\n",
    "\n",
    "id_counter = Counter(ids)\n",
    "shared = [elem for (elem, count) in id_counter.items() if count >= 2]\n",
    "\n",
    "first_frame, second_frame = scans"
   ]
  },
  {
   "cell_type": "code",
   "execution_count": 202,
   "metadata": {},
   "outputs": [
    {
     "data": {
      "text/plain": [
       "3"
      ]
     },
     "execution_count": 202,
     "metadata": {},
     "output_type": "execute_result"
    }
   ],
   "source": [
    "merged = deepcopy(first_frame)\n",
    "\n",
    "for cube in deepcopy(second_frame):\n",
    "    if cube[\"id\"] in shared:\n",
    "        continue\n",
    "        \n",
    "    T = np.array(cube[\"transform\"])\n",
    "        \n",
    "    avg_diff = np.zeros((4, 4), dtype=np.float64)\n",
    "    \n",
    "    for shared_id in shared:\n",
    "        shared_cube_2 = cubes_by_id[shared_id][1]\n",
    "        s = np.array(shared_cube_2[\"transform\"])\n",
    "        diff = np.linalg.solve(s, T)\n",
    "        avg_diff += diff\n",
    "        \n",
    "    avg_diff /= len(shared)\n",
    "    \n",
    "    shared_cube_1 = cubes_by_id[shared_id][0]\n",
    "    f = np.array(shared_cube_1[\"transform\"])\n",
    "\n",
    "    cube[\"transform\"] = f.dot(avg_diff).tolist()\n",
    "    \n",
    "    merged.append(cube)\n",
    "\n",
    "\n",
    "    \n",
    "with open(\"merged.json\", \"w\") as out:\n",
    "    json.dump(merged, out)\n",
    "\n",
    "len(merged)\n",
    "\n",
    "    \n",
    "    "
   ]
  },
  {
   "cell_type": "code",
   "execution_count": 147,
   "metadata": {},
   "outputs": [
    {
     "data": {
      "text/plain": [
       "[[1.0, 0.0, 0.0, -12.96464729309082],\n",
       " [0.0, 0.6967067122459412, -0.7173560857772827, -12.183664321899414],\n",
       " [0.0, 0.7173560857772827, 0.6967067122459412, -66.10247802734375],\n",
       " [0.0, 0.0, 0.0, 1.0]]"
      ]
     },
     "execution_count": 147,
     "metadata": {},
     "output_type": "execute_result"
    }
   ],
   "source": [
    "m.tolist()"
   ]
  },
  {
   "cell_type": "code",
   "execution_count": 82,
   "metadata": {},
   "outputs": [
    {
     "data": {
      "text/plain": [
       "u'COMMON'"
      ]
     },
     "execution_count": 82,
     "metadata": {},
     "output_type": "execute_result"
    }
   ],
   "source": [
    "shared[0]"
   ]
  },
  {
   "cell_type": "code",
   "execution_count": 182,
   "metadata": {},
   "outputs": [],
   "source": [
    "A, B = yo"
   ]
  },
  {
   "cell_type": "code",
   "execution_count": 183,
   "metadata": {
    "collapsed": true
   },
   "outputs": [],
   "source": [
    "C = np.linalg.solve(A, B)"
   ]
  },
  {
   "cell_type": "code",
   "execution_count": 184,
   "metadata": {},
   "outputs": [
    {
     "data": {
      "text/plain": [
       "array([[  0.98231632,  -0.02545311,   0.18549073, -19.24764824],\n",
       "       [  0.12342855,   0.83298928,  -0.5393461 ,   2.53485298],\n",
       "       [ -0.14078376,   0.55270332,   0.82140058, -90.28709412],\n",
       "       [  0.        ,   0.        ,   0.        ,   1.        ]])"
      ]
     },
     "execution_count": 184,
     "metadata": {},
     "output_type": "execute_result"
    }
   ],
   "source": [
    "A.dot(C)"
   ]
  },
  {
   "cell_type": "code",
   "execution_count": 185,
   "metadata": {},
   "outputs": [
    {
     "data": {
      "text/plain": [
       "array([[  0.98231632,  -0.02545311,   0.18549073, -19.24764824],\n",
       "       [  0.12342855,   0.83298928,  -0.5393461 ,   2.53485298],\n",
       "       [ -0.14078376,   0.55270332,   0.82140058, -90.28709412],\n",
       "       [  0.        ,   0.        ,   0.        ,   1.        ]])"
      ]
     },
     "execution_count": 185,
     "metadata": {},
     "output_type": "execute_result"
    }
   ],
   "source": [
    "B"
   ]
  },
  {
   "cell_type": "code",
   "execution_count": null,
   "metadata": {
    "collapsed": true
   },
   "outputs": [],
   "source": []
  }
 ],
 "metadata": {
  "kernelspec": {
   "display_name": "Python 2",
   "language": "python",
   "name": "python2"
  },
  "language_info": {
   "codemirror_mode": {
    "name": "ipython",
    "version": 2
   },
   "file_extension": ".py",
   "mimetype": "text/x-python",
   "name": "python",
   "nbconvert_exporter": "python",
   "pygments_lexer": "ipython2",
   "version": "2.7.13"
  }
 },
 "nbformat": 4,
 "nbformat_minor": 2
}
